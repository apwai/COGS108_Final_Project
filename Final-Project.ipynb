{
 "cells": [
  {
   "cell_type": "markdown",
   "metadata": {},
   "source": [
    "# COGS 108 - Final Project "
   ]
  },
  {
   "cell_type": "markdown",
   "metadata": {},
   "source": [
    "# Overview"
   ]
  },
  {
   "cell_type": "markdown",
   "metadata": {},
   "source": [
    "The NFL season usually starts in September and ends in February. Across the 17-week regular season and the playoffs afterwards, weather conditions at a team’s home stadium could change substantially. Furthermore, teams not only play at their home stadiums, but also have to travel to other regions in the country, possibly with very different climate, to play away games. Therefore, it is expected that teams will play under different weather conditions throughout the season. Knowing the relationship between team performance and weather conditions will be useful to NFL teams so that they may adopt different strategies under different weather conditions and hold special training sessions before playing at their least favorite weather conditions.  \n"
   ]
  },
  {
   "cell_type": "markdown",
   "metadata": {},
   "source": [
    "# Names\n",
    "\n",
    "- Annie Wai\n",
    "- Chen Xu\n",
    "- Christopher Yeh\n",
    "- Ronak Sheth\n",
    "- Shun Fujinami\n",
    "- Yupei Zhou"
   ]
  },
  {
   "cell_type": "markdown",
   "metadata": {},
   "source": [
    "# Group Members IDs\n",
    "\n",
    "- A12944645\n",
    "- A13636618\n",
    "- A15720503\n",
    "- A92086612\n",
    "- A14255552\n",
    "- A13410536"
   ]
  },
  {
   "cell_type": "markdown",
   "metadata": {},
   "source": [
    "# Research Question"
   ]
  },
  {
   "cell_type": "markdown",
   "metadata": {},
   "source": [
    "Our question is how does weather, with an emphasis on temperature and wind speed affect the outcome of a National Football League (NFL) game. We will be analyzing the weather data during each NFL game, and seeing if the difference of a home team's acclimated weather and the current game's weather will play a significant factor in determining the outcome of the game."
   ]
  },
  {
   "cell_type": "markdown",
   "metadata": {},
   "source": [
    "## Background and Prior Work\n"
   ]
  },
  {
   "cell_type": "markdown",
   "metadata": {},
   "source": [
    "There has been previous studies on how weather affects NFL games, even as far as betting lines being affected by the weather. According to Sports Betting Stats line-makers (bookies that determine the odds and payouts for betting on games) factor in temperature, precipitation, and wind speed when creating the betting odds. There has also been studies published by individuals based on data science which include “dome teams” (teams with an indoor stadium at home) playing in extreme weather, or the drop off of production by a quarterback in poor weather. Advanced Football Analytics analyzed data for when teams played in away stadiums and compared their home climate to the away climate. Most notably was “dome teams” not winning a single away game when the temperature was 20 degrees or lower. In another article Towards Data Science studied each quarterback’s statistics when playing in extreme weather. This article demonstrated a clear drop off in production of each quarterback when comparing their play in “great weather” versus “bad weather” Each of these previous studies narrowed down the data to specific scenarios, or a specific player’s position when analyzing the data. Our study will broaden the scope of how weather affects NFL games to every team, and every game in our dataset. This study will demonstrate how big a factor weather plays in determining the outcome of an NFL game in the grand scheme of all factors that play a part in winning an NFL game. \n",
    "\n",
    "References (include links): \n",
    "- 1) Sports Bettings Stats (https://www.sportsbettingstats.com/nfl/football-weather)\n",
    "- 2) Advanced Football Analytics (http://archive.advancedfootballanalytics.com/2012/01/how-does-temperature-affect-road-teams.html)\n",
    "- 3) Towards Data Science (https://towardsdatascience.com/football-weather-diving-into-the-effects-of-weather-on-nfl-qb-performance-f0edb420623d)"
   ]
  },
  {
   "cell_type": "markdown",
   "metadata": {},
   "source": [
    "# Hypothesis\n"
   ]
  },
  {
   "cell_type": "markdown",
   "metadata": {},
   "source": [
    "Our hypothesis is that the team with the nearest acclimated weather to the current game's weather will have a significantly higher chance of winning."
   ]
  },
  {
   "cell_type": "markdown",
   "metadata": {},
   "source": [
    "# Dataset(s)\n"
   ]
  },
  {
   "cell_type": "markdown",
   "metadata": {},
   "source": [
    "- Dataset Name: NFL scores and betting data\n",
    "- Link to the dataset: https://www.kaggle.com/tobycrabtree/nfl-scores-and-betting-data#spreadspoke_scores.csv\n",
    "- Number of observations: 12400\n",
    "\n",
    "This dataset includes 12,400 games since the 1966 season with 17 variables including: \n",
    "schedule date, schedule season, schedule week, schedule playoff, team home, score home, score away, team away, team favorite id, spread favorite, over under line, stadium, stadium neutral, weather temperature, weather wind mph, weather humidity, and extra weather detail.\n"
   ]
  },
  {
   "cell_type": "markdown",
   "metadata": {},
   "source": [
    "# Setup\n"
   ]
  },
  {
   "cell_type": "code",
   "execution_count": null,
   "metadata": {},
   "outputs": [],
   "source": [
    "from scipy.stats import ttest_ind, chisquare, normaltest, ttest_1samp\n",
    "\n",
    "import seaborn as sns\n",
    "import pandas as pd\n",
    "import numpy as np\n",
    "import matplotlib.pyplot as plt"
   ]
  },
  {
   "cell_type": "markdown",
   "metadata": {},
   "source": [
    "# Data Cleaning\n"
   ]
  },
  {
   "cell_type": "markdown",
   "metadata": {},
   "source": [
    "We created a dataframe from the dataset csv file. We will drop the following unused columns: schedule season, schedule week, schedule playoff, stadium neutral, team favorite id, spread favorite, and over under line. We will also drop any games played indoors."
   ]
  },
  {
   "cell_type": "code",
   "execution_count": 1,
   "metadata": {},
   "outputs": [
    {
     "ename": "NameError",
     "evalue": "name 'pd' is not defined",
     "output_type": "error",
     "traceback": [
      "\u001b[0;31m---------------------------------------------------------------------------\u001b[0m",
      "\u001b[0;31mNameError\u001b[0m                                 Traceback (most recent call last)",
      "\u001b[0;32m<ipython-input-1-85b296b8ae06>\u001b[0m in \u001b[0;36m<module>\u001b[0;34m()\u001b[0m\n\u001b[0;32m----> 1\u001b[0;31m \u001b[0mdf\u001b[0m \u001b[0;34m=\u001b[0m \u001b[0mpd\u001b[0m\u001b[0;34m.\u001b[0m\u001b[0mread_csv\u001b[0m\u001b[0;34m(\u001b[0m\u001b[0;34m\"./nfl-scores-and-betting-data/spreadspoke_scores.csv\"\u001b[0m\u001b[0;34m)\u001b[0m\u001b[0;34m\u001b[0m\u001b[0;34m\u001b[0m\u001b[0m\n\u001b[0m\u001b[1;32m      2\u001b[0m df = df.drop(columns=[\"schedule_season\", \"schedule_week\", \"schedule_playoff\", \"stadium_neutral\", \n\u001b[1;32m      3\u001b[0m                       \"team_favorite_id\", \"spread_favorite\", \"over_under_line\"],\n\u001b[1;32m      4\u001b[0m              axis=1)\n\u001b[1;32m      5\u001b[0m \u001b[0mdf\u001b[0m \u001b[0;34m=\u001b[0m \u001b[0mdf\u001b[0m\u001b[0;34m[\u001b[0m\u001b[0mdf\u001b[0m\u001b[0;34m.\u001b[0m\u001b[0mweather_detail\u001b[0m \u001b[0;34m!=\u001b[0m \u001b[0;34m\"DOME\"\u001b[0m\u001b[0;34m]\u001b[0m\u001b[0;34m\u001b[0m\u001b[0;34m\u001b[0m\u001b[0m\n",
      "\u001b[0;31mNameError\u001b[0m: name 'pd' is not defined"
     ]
    }
   ],
   "source": [
    "df = pd.read_csv(\"./nfl-scores-and-betting-data/spreadspoke_scores.csv\")\n",
    "df = df.drop(columns=[\"schedule_season\", \"schedule_week\", \"schedule_playoff\", \"stadium_neutral\", \n",
    "                      \"team_favorite_id\", \"spread_favorite\", \"over_under_line\"],\n",
    "             axis=1)\n",
    "df = df[df.weather_detail != \"DOME\"]"
   ]
  },
  {
   "cell_type": "markdown",
   "metadata": {},
   "source": [
    "Based on the score of the home and away team, we want to add a column to indicate the outcome of the game."
   ]
  },
  {
   "cell_type": "code",
   "execution_count": null,
   "metadata": {},
   "outputs": [],
   "source": [
    "for index, row in df.iterrows():\n",
    "    score_home = df.loc[index]['score_home']\n",
    "    score_away = df.loc[index]['score_away']\n",
    "    if score_home > score_away:\n",
    "        df.at[index, 'home_w_l_t'] = 'WIN'\n",
    "    elif score_away > score_home:\n",
    "         df.at[index, 'home_w_l_t'] = 'LOSS'\n",
    "    else:\n",
    "        df.at[index, 'home_w_l_t'] = 'TIE'"
   ]
  },
  {
   "cell_type": "markdown",
   "metadata": {},
   "source": [
    "It would appear that most entries are missing weather humidity and weather detail, so we are dropping rows without weather humidity and the whole column of weather detail."
   ]
  },
  {
   "cell_type": "code",
   "execution_count": null,
   "metadata": {},
   "outputs": [],
   "source": [
    "df.dropna(subset=['weather_humidity'], inplace = True)\n",
    "df = df.drop(columns = ['weather_detail'])\n",
    "df.head()"
   ]
  },
  {
   "cell_type": "markdown",
   "metadata": {},
   "source": [
    "Here we'll gather the temperature and wind speed data separately."
   ]
  },
  {
   "cell_type": "code",
   "execution_count": null,
   "metadata": {},
   "outputs": [],
   "source": [
    "temp_win = []\n",
    "temp_tie = []\n",
    "temp_loss = []\n",
    "wind_win = []\n",
    "wind_tie = []\n",
    "wind_loss = []\n",
    "\n",
    "for index, row in df.iterrows():\n",
    "    if row[\"home_w_l_t\"] == \"WIN\":\n",
    "        temp_win.append(row[\"weather_temperature\"])\n",
    "        wind_win.append(row[\"weather_wind_mph\"])\n",
    "    elif row[\"home_w_l_t\"] == \"TIE\":\n",
    "        temp_tie.append(row[\"weather_temperature\"])\n",
    "        wind_tie.append(row[\"weather_wind_mph\"])\n",
    "    else:\n",
    "        temp_loss.append(row[\"weather_temperature\"])\n",
    "        wind_loss.append(row[\"weather_wind_mph\"])"
   ]
  },
  {
   "cell_type": "markdown",
   "metadata": {},
   "source": [
    "# Data Analysis & Results"
   ]
  },
  {
   "cell_type": "code",
   "execution_count": null,
   "metadata": {},
   "outputs": [],
   "source": [
    "# here I will graph the histogram for the temperatures\n",
    "# temp_win histogram\n",
    "plt.hist(df[df[\"home_w_l_t\"] == \"WIN\"][\"weather_temperature\"])"
   ]
  },
  {
   "cell_type": "code",
   "execution_count": null,
   "metadata": {},
   "outputs": [],
   "source": [
    "# temp_tie histogram\n",
    "plt.hist(df[df[\"home_w_l_t\"] == \"TIE\"][\"weather_temperature\"])"
   ]
  },
  {
   "cell_type": "code",
   "execution_count": null,
   "metadata": {},
   "outputs": [],
   "source": [
    "# temp_loss histogram\n",
    "plt.hist(df[df[\"home_w_l_t\"] == \"LOSS\"][\"weather_temperature\"])"
   ]
  },
  {
   "cell_type": "code",
   "execution_count": null,
   "metadata": {},
   "outputs": [],
   "source": [
    "# histograms for wind_speeds\n",
    "# wind_win histogram\n",
    "plt.hist(df[df[\"home_w_l_t\"] == \"WIN\"][\"weather_wind_mph\"])"
   ]
  },
  {
   "cell_type": "code",
   "execution_count": null,
   "metadata": {},
   "outputs": [],
   "source": [
    "# wind_tie histogram\n",
    "plt.hist(df[df[\"home_w_l_t\"] == \"TIE\"][\"weather_wind_mph\"])"
   ]
  },
  {
   "cell_type": "code",
   "execution_count": null,
   "metadata": {},
   "outputs": [],
   "source": [
    "# wind_loss histogram\n",
    "plt.hist(df[df[\"home_w_l_t\"] == \"LOSS\"][\"weather_wind_mph\"])"
   ]
  },
  {
   "cell_type": "code",
   "execution_count": null,
   "metadata": {},
   "outputs": [],
   "source": [
    "# A t-test to check if there is any statistically significant difference between temp_win and temp_loss.\n",
    "t_val_weather, p_val_weather = ttest_ind(temp_win, temp_loss)"
   ]
  },
  {
   "cell_type": "code",
   "execution_count": null,
   "metadata": {},
   "outputs": [],
   "source": [
    "# Indeed there is a statistically significant difference, as the p-value is very small.\n",
    "t_val_weather, p_val_weather"
   ]
  },
  {
   "cell_type": "code",
   "execution_count": null,
   "metadata": {},
   "outputs": [],
   "source": [
    "# A t-test to check if there is any statistically significant difference between wind_win and wind_loss.\n",
    "t_val_wind, p_val_wind = ttest_ind(wind_win, wind_loss)"
   ]
  },
  {
   "cell_type": "code",
   "execution_count": null,
   "metadata": {},
   "outputs": [],
   "source": [
    "# The t-test does not yield a small p-value, so we cannot conclude that there is a statistically significant difference.\n",
    "t_val_wind, p_val_wind"
   ]
  },
  {
   "cell_type": "code",
   "execution_count": null,
   "metadata": {},
   "outputs": [],
   "source": [
    "# Make a copy of df\n",
    "df1 = df.copy()"
   ]
  },
  {
   "cell_type": "code",
   "execution_count": null,
   "metadata": {},
   "outputs": [],
   "source": [
    "# We compute the average temperature of all the games won by each team.\n",
    "# The averages are saved as a new column 'avg_temperature'\n",
    "df1['avg_temperature'] = df1.groupby(['team_home', 'home_w_l_t'])['weather_temperature'].transform(np.mean)"
   ]
  },
  {
   "cell_type": "code",
   "execution_count": null,
   "metadata": {},
   "outputs": [],
   "source": [
    "# Then we compute the standard deviation of temperature of all the games won by each team.\n",
    "# The standard deviations are saved as a new column 'std_temperature'\n",
    "df1['std_temperature'] = df1.groupby(['team_home', 'home_w_l_t'])['weather_temperature'].transform(np.std)"
   ]
  },
  {
   "cell_type": "code",
   "execution_count": null,
   "metadata": {},
   "outputs": [],
   "source": [
    "# With average and standard deviation of each group already computed, we can proceed to compute the z-score.\n",
    "# The z-scores are saved as a new column 'z_score_temperature'\n",
    "df1['z_score_temperature'] = (df1['weather_temperature'] - df1['avg_temperature']) / df1['std_temperature']"
   ]
  },
  {
   "cell_type": "code",
   "execution_count": null,
   "metadata": {
    "scrolled": true
   },
   "outputs": [],
   "source": [
    "df1.head()"
   ]
  },
  {
   "cell_type": "markdown",
   "metadata": {},
   "source": [
    "We want to see if there are any correlation with the outcome of the game based on the difference of temperature from their average home temperature."
   ]
  },
  {
   "cell_type": "code",
   "execution_count": null,
   "metadata": {},
   "outputs": [],
   "source": [
    "df1['diff_temperature'] = df1['avg_temperature'] - df1['weather_temperature']\n",
    "df1.head()"
   ]
  },
  {
   "cell_type": "code",
   "execution_count": null,
   "metadata": {},
   "outputs": [],
   "source": [
    "loss_temp = df1.loc[df1['home_w_l_t'] == 'LOSS']\n",
    "win_temp = df1.loc[df1['home_w_l_t'] == 'WIN']\n",
    "#tie_temp = df1.loc[df1['home_w_l_t'] == 'TIE'] #TODO possibly take this out\n",
    "\n",
    "\n",
    "\n",
    "sns.distplot(loss_temp['diff_temperature'], hist = False, kde = True, kde_kws = {'linewidth': 3}, label = 'Win')\n",
    "sns.distplot(win_temp['diff_temperature'], hist = False, kde = True, kde_kws = {'linewidth': 3}, label = 'Loss')\n",
    "#sns.distplot(tie_temp['diff_temperature'], hist = False, kde = True, kde_kws = {'linewidth': 3}, label = 'Tie')\n",
    "\n",
    "plt.legend(prop={'size': 16}, title = 'Game Outcome')\n",
    "plt.title('Density Plot Based On Game Outcome')\n",
    "plt.xlabel('Temperature Differences')\n",
    "plt.ylabel('Density')"
   ]
  },
  {
   "cell_type": "markdown",
   "metadata": {},
   "source": [
    "# Ethics and Privacy"
   ]
  },
  {
   "cell_type": "markdown",
   "metadata": {},
   "source": [
    "We don’t have any privacy issues regarding this data as it was built from publicly available data published by the National Football League (NFL), as well as publicly available weather data from the National Oceanic and Atmospheric Administration (NOAA). There may be some potential biases in our dataset, mainly in the betting variables such as favorite id, spread favorite, and over under line. Since we did not use any of the betting data and the remaining variables that we did use are concrete numbers, we would not run into issues with biases in the data we’ve used. We do expect the national organizations to provide bias data such as game outcomes or weather data.\n",
    "\n",
    "The ramifications of the results of this study could span to the population who places bets on the outcomes of NFL games, and this study could be used to predict unlikely outcomes. Our conclusion may possibly affect the betting odds that line-makers create. In addition to betting odds being affected, bet placers will also be affected by the findings of this study. Changes in the betting odds, as well as betting trends followed by bet placers can affect personal affairs regarding a person’s economic status. \n",
    "\n",
    "It is also important to consider the privacy and reputation of the sports teams analyzed, as negative attention to a team’s performance or brand may negatively affect their public opinion. As many people such as players, coaches, and reporters revolve their careers around NFL games, affecting the popularity of sports teams may negatively affect their careers. "
   ]
  },
  {
   "cell_type": "markdown",
   "metadata": {},
   "source": [
    "# Conclusion"
   ]
  },
  {
   "cell_type": "markdown",
   "metadata": {},
   "source": [
    "*Fill in your discussion information here*"
   ]
  },
  {
   "cell_type": "markdown",
   "metadata": {},
   "source": [
    "# Discussion"
   ]
  },
  {
   "cell_type": "markdown",
   "metadata": {},
   "source": [
    "As even with more than 10,000 games played as data, as we consider there to be 41 distinct football teams, there were few games\n",
    "played for each possible match-up, with some teams never even playing a match, and so our predictions, while significant, did not \n",
    "match with our original hypothesis.\n",
    "This is also due to many teams having a short-lived career or changing cities or names, which we could combine for more match-ups and \n",
    "therefore different outcomes for our predictions."
   ]
  },
  {
   "cell_type": "markdown",
   "metadata": {},
   "source": [
    "# Future Work"
   ]
  },
  {
   "cell_type": "markdown",
   "metadata": {},
   "source": [
    "With more datasets and better distinguished teams, and we could also analyze other elements of game statistics, such as at what temperature injuries are more likely to occur, player fatigue and switching, and performance statistics of individual players.\n",
    "Perhaps we can also use categorical data, such as whether it was raining or snowing, the frequency that\n",
    "teams have experience in that condition, and their likeliness to win from that data."
   ]
  },
  {
   "cell_type": "code",
   "execution_count": null,
   "metadata": {},
   "outputs": [],
   "source": []
  }
 ],
 "metadata": {
  "kernelspec": {
   "display_name": "Python 3",
   "language": "python",
   "name": "python3"
  },
  "language_info": {
   "codemirror_mode": {
    "name": "ipython",
    "version": 3
   },
   "file_extension": ".py",
   "mimetype": "text/x-python",
   "name": "python",
   "nbconvert_exporter": "python",
   "pygments_lexer": "ipython3",
   "version": "3.6.7"
  }
 },
 "nbformat": 4,
 "nbformat_minor": 2
}
