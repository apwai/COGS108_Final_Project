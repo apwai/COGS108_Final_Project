{
 "cells": [
  {
   "cell_type": "markdown",
   "metadata": {},
   "source": [
    "# COGS 108 - Final Project "
   ]
  },
  {
   "cell_type": "markdown",
   "metadata": {},
   "source": [
    "# Overview"
   ]
  },
  {
   "cell_type": "markdown",
   "metadata": {},
   "source": [
    "The NFL season usually starts in September and ends in February. Across the 17-week regular season and the playoffs afterwards, weather conditions at a team’s home stadium could change substantially. Furthermore, teams not only play at their home stadiums, but also have to travel to other regions in the country, possibly with very different climate, to play away games. Therefore, it is expected that teams will play under different weather conditions throughout the season. Knowing the relationship between team performance and weather conditions will be useful to NFL teams so that they may adopt different strategies under different weather conditions and hold special training sessions before playing at their least favorite weather conditions.  \n"
   ]
  },
  {
   "cell_type": "markdown",
   "metadata": {},
   "source": [
    "# Names\n",
    "\n",
    "- Annie Wai\n",
    "- Chen Xu\n",
    "- Christopher Yeh\n",
    "- Ronak Sheth\n",
    "- Shun Fujinami\n",
    "- Yupei Zhou"
   ]
  },
  {
   "cell_type": "markdown",
   "metadata": {},
   "source": [
    "# Group Members IDs\n",
    "\n",
    "- A12944645\n",
    "- A13636618\n",
    "- A15720503\n",
    "- A92086612\n",
    "- A14255552\n",
    "- A13410536"
   ]
  },
  {
   "cell_type": "markdown",
   "metadata": {},
   "source": [
    "# Research Question"
   ]
  },
  {
   "cell_type": "markdown",
   "metadata": {},
   "source": [
    "Our question is how does weather, with an emphasis on temperature and wind speed affect the outcome of a National Football League (NFL) game. We will be analyzing the weather data during each NFL game, and seeing if the difference of a home team's acclimated weather and the current game's weather will play a significant factor in determining the outcome of the game."
   ]
  },
  {
   "cell_type": "markdown",
   "metadata": {},
   "source": [
    "## Background and Prior Work\n"
   ]
  },
  {
   "cell_type": "markdown",
   "metadata": {},
   "source": [
    "There has been previous studies on how weather affects NFL games, even as far as betting lines being affected by the weather. According to Sports Betting Stats line-makers (bookies that determine the odds and payouts for betting on games) factor in temperature, precipitation, and wind speed when creating the betting odds. There has also been studies published by individuals based on data science which include “dome teams” (teams with an indoor stadium at home) playing in extreme weather, or the drop off of production by a quarterback in poor weather. Advanced Football Analytics analyzed data for when teams played in away stadiums and compared their home climate to the away climate. Most notably was “dome teams” not winning a single away game when the temperature was 20 degrees or lower. In another article Towards Data Science studied each quarterback’s statistics when playing in extreme weather. This article demonstrated a clear drop off in production of each quarterback when comparing their play in “great weather” versus “bad weather” Each of these previous studies narrowed down the data to specific scenarios, or a specific player’s position when analyzing the data. Our study will broaden the scope of how weather affects NFL games to every team, and every game in our dataset. This study will demonstrate how big a factor weather plays in determining the outcome of an NFL game in the grand scheme of all factors that play a part in winning an NFL game. \n",
    "\n",
    "References (include links): \n",
    "- 1) Sports Bettings Stats (https://www.sportsbettingstats.com/nfl/football-weather)\n",
    "- 2) Advanced Football Analytics (http://archive.advancedfootballanalytics.com/2012/01/how-does-temperature-affect-road-teams.html)\n",
    "- 3) Towards Data Science (https://towardsdatascience.com/football-weather-diving-into-the-effects-of-weather-on-nfl-qb-performance-f0edb420623d)"
   ]
  },
  {
   "cell_type": "markdown",
   "metadata": {},
   "source": [
    "# Hypothesis\n"
   ]
  },
  {
   "cell_type": "markdown",
   "metadata": {},
   "source": [
    "Our hypothesis is that the team with the nearest acclimated weather to the current game's weather will have a significantly higher chance of winning."
   ]
  },
  {
   "cell_type": "markdown",
   "metadata": {},
   "source": [
    "# Dataset(s)\n"
   ]
  },
  {
   "cell_type": "markdown",
   "metadata": {},
   "source": [
    "- Dataset Name: NFL scores and betting data\n",
    "- Link to the dataset: https://www.kaggle.com/tobycrabtree/nfl-scores-and-betting-data#spreadspoke_scores.csv\n",
    "- Number of observations: 12400\n",
    "\n",
    "This dataset includes 12,400 games since the 1966 season with 17 variables including: \n",
    "schedule date, schedule season, schedule week, schedule playoff, team home, score home, score away, team away, team favorite id, spread favorite, over under line, stadium, stadium neutral, weather temperature, weather wind mph, weather humidity, and extra weather detail.\n"
   ]
  },
  {
   "cell_type": "markdown",
   "metadata": {},
   "source": [
    "# Setup\n"
   ]
  },
  {
   "cell_type": "code",
   "execution_count": 6,
   "metadata": {},
   "outputs": [],
   "source": [
    "from scipy.stats import ttest_ind, chisquare, normaltest, ttest_1samp\n",
    "\n",
    "import seaborn as sns\n",
    "import pandas as pd\n",
    "import numpy as np\n",
    "import matplotlib.pyplot as plt"
   ]
  },
  {
   "cell_type": "markdown",
   "metadata": {},
   "source": [
    "# Data Cleaning\n"
   ]
  },
  {
   "cell_type": "markdown",
   "metadata": {},
   "source": [
    "We created a dataframe from the dataset csv file. We will drop the following unused columns: schedule season, schedule week, schedule playoff, stadium neutral, team favorite id, spread favorite, and over under line. We will also drop any games played indoors."
   ]
  },
  {
   "cell_type": "code",
   "execution_count": 7,
   "metadata": {},
   "outputs": [],
   "source": [
    "df = pd.read_csv(\"./nfl-scores-and-betting-data/spreadspoke_scores.csv\")\n",
    "df = df.drop(columns=[\"schedule_season\", \"schedule_week\", \"schedule_playoff\", \"stadium_neutral\", \n",
    "                      \"team_favorite_id\", \"spread_favorite\", \"over_under_line\"],\n",
    "             axis=1)\n",
    "df = df[df.weather_detail != \"DOME\"]"
   ]
  },
  {
   "cell_type": "markdown",
   "metadata": {},
   "source": [
    "Based on the score of the home and away team, we want to add a column to indicate the outcome of the game."
   ]
  },
  {
   "cell_type": "code",
   "execution_count": 8,
   "metadata": {},
   "outputs": [],
   "source": [
    "for index, row in df.iterrows():\n",
    "    score_home = df.loc[index]['score_home']\n",
    "    score_away = df.loc[index]['score_away']\n",
    "    if score_home > score_away:\n",
    "        df.at[index, 'home_w_l_t'] = 'WIN'\n",
    "    elif score_away > score_home:\n",
    "        df.at[index, 'home_w_l_t'] = 'LOSS'\n",
    "    else:\n",
    "        df.at[index, 'home_w_l_t'] = 'TIE'"
   ]
  },
  {
   "cell_type": "markdown",
   "metadata": {},
   "source": [
    "It would appear that most entries are missing weather humidity and weather detail, so we are dropping rows without weather humidity and the whole column of weather detail."
   ]
  },
  {
   "cell_type": "code",
   "execution_count": 9,
   "metadata": {},
   "outputs": [
    {
     "data": {
      "text/html": [
       "<div>\n",
       "<style scoped>\n",
       "    .dataframe tbody tr th:only-of-type {\n",
       "        vertical-align: middle;\n",
       "    }\n",
       "\n",
       "    .dataframe tbody tr th {\n",
       "        vertical-align: top;\n",
       "    }\n",
       "\n",
       "    .dataframe thead th {\n",
       "        text-align: right;\n",
       "    }\n",
       "</style>\n",
       "<table border=\"1\" class=\"dataframe\">\n",
       "  <thead>\n",
       "    <tr style=\"text-align: right;\">\n",
       "      <th></th>\n",
       "      <th>schedule_date</th>\n",
       "      <th>team_home</th>\n",
       "      <th>score_home</th>\n",
       "      <th>score_away</th>\n",
       "      <th>team_away</th>\n",
       "      <th>stadium</th>\n",
       "      <th>weather_temperature</th>\n",
       "      <th>weather_wind_mph</th>\n",
       "      <th>weather_humidity</th>\n",
       "      <th>home_w_l_t</th>\n",
       "    </tr>\n",
       "  </thead>\n",
       "  <tbody>\n",
       "    <tr>\n",
       "      <th>0</th>\n",
       "      <td>09/02/1966</td>\n",
       "      <td>Miami Dolphins</td>\n",
       "      <td>14</td>\n",
       "      <td>23</td>\n",
       "      <td>Oakland Raiders</td>\n",
       "      <td>Orange Bowl</td>\n",
       "      <td>83.0</td>\n",
       "      <td>6.0</td>\n",
       "      <td>71</td>\n",
       "      <td>LOSS</td>\n",
       "    </tr>\n",
       "    <tr>\n",
       "      <th>1</th>\n",
       "      <td>09/03/1966</td>\n",
       "      <td>Houston Oilers</td>\n",
       "      <td>45</td>\n",
       "      <td>7</td>\n",
       "      <td>Denver Broncos</td>\n",
       "      <td>Rice Stadium</td>\n",
       "      <td>81.0</td>\n",
       "      <td>7.0</td>\n",
       "      <td>70</td>\n",
       "      <td>WIN</td>\n",
       "    </tr>\n",
       "    <tr>\n",
       "      <th>2</th>\n",
       "      <td>09/04/1966</td>\n",
       "      <td>San Diego Chargers</td>\n",
       "      <td>27</td>\n",
       "      <td>7</td>\n",
       "      <td>Buffalo Bills</td>\n",
       "      <td>Balboa Stadium</td>\n",
       "      <td>70.0</td>\n",
       "      <td>7.0</td>\n",
       "      <td>82</td>\n",
       "      <td>WIN</td>\n",
       "    </tr>\n",
       "    <tr>\n",
       "      <th>3</th>\n",
       "      <td>09/09/1966</td>\n",
       "      <td>Miami Dolphins</td>\n",
       "      <td>14</td>\n",
       "      <td>19</td>\n",
       "      <td>New York Jets</td>\n",
       "      <td>Orange Bowl</td>\n",
       "      <td>82.0</td>\n",
       "      <td>11.0</td>\n",
       "      <td>78</td>\n",
       "      <td>LOSS</td>\n",
       "    </tr>\n",
       "    <tr>\n",
       "      <th>4</th>\n",
       "      <td>09/10/1966</td>\n",
       "      <td>Green Bay Packers</td>\n",
       "      <td>24</td>\n",
       "      <td>3</td>\n",
       "      <td>Baltimore Colts</td>\n",
       "      <td>Lambeau Field</td>\n",
       "      <td>64.0</td>\n",
       "      <td>8.0</td>\n",
       "      <td>62</td>\n",
       "      <td>WIN</td>\n",
       "    </tr>\n",
       "  </tbody>\n",
       "</table>\n",
       "</div>"
      ],
      "text/plain": [
       "  schedule_date           team_home  score_home  score_away        team_away  \\\n",
       "0    09/02/1966      Miami Dolphins          14          23  Oakland Raiders   \n",
       "1    09/03/1966      Houston Oilers          45           7   Denver Broncos   \n",
       "2    09/04/1966  San Diego Chargers          27           7    Buffalo Bills   \n",
       "3    09/09/1966      Miami Dolphins          14          19    New York Jets   \n",
       "4    09/10/1966   Green Bay Packers          24           3  Baltimore Colts   \n",
       "\n",
       "          stadium  weather_temperature  weather_wind_mph weather_humidity  \\\n",
       "0     Orange Bowl                 83.0               6.0               71   \n",
       "1    Rice Stadium                 81.0               7.0               70   \n",
       "2  Balboa Stadium                 70.0               7.0               82   \n",
       "3     Orange Bowl                 82.0              11.0               78   \n",
       "4   Lambeau Field                 64.0               8.0               62   \n",
       "\n",
       "  home_w_l_t  \n",
       "0       LOSS  \n",
       "1        WIN  \n",
       "2        WIN  \n",
       "3       LOSS  \n",
       "4        WIN  "
      ]
     },
     "execution_count": 9,
     "metadata": {},
     "output_type": "execute_result"
    }
   ],
   "source": [
    "df.dropna(subset=['weather_humidity'], inplace = True)\n",
    "df = df.drop(columns = ['weather_detail'])\n",
    "df.head()"
   ]
  },
  {
   "cell_type": "markdown",
   "metadata": {},
   "source": [
    "Here we'll gather the temperature and wind speed data separately."
   ]
  },
  {
   "cell_type": "code",
   "execution_count": 10,
   "metadata": {},
   "outputs": [],
   "source": [
    "temp_win = []\n",
    "temp_tie = []\n",
    "temp_loss = []\n",
    "wind_win = []\n",
    "wind_tie = []\n",
    "wind_loss = []\n",
    "\n",
    "for index, row in df.iterrows():\n",
    "    if row[\"home_w_l_t\"] == \"WIN\":\n",
    "        temp_win.append(row[\"weather_temperature\"])\n",
    "        wind_win.append(row[\"weather_wind_mph\"])\n",
    "    elif row[\"home_w_l_t\"] == \"TIE\":\n",
    "        temp_tie.append(row[\"weather_temperature\"])\n",
    "        wind_tie.append(row[\"weather_wind_mph\"])\n",
    "    else:\n",
    "        temp_loss.append(row[\"weather_temperature\"])\n",
    "        wind_loss.append(row[\"weather_wind_mph\"])"
   ]
  },
  {
   "cell_type": "markdown",
   "metadata": {},
   "source": [
    "# Data Analysis & Results"
   ]
  },
  {
   "cell_type": "markdown",
   "metadata": {},
   "source": [
    "Here we will graph histograms for game outcomes and temperature."
   ]
  },
  {
   "cell_type": "code",
   "execution_count": 17,
   "metadata": {},
   "outputs": [
    {
     "data": {
      "image/png": "[encoded data removed]",
      "text/plain": [
       "<Figure size 432x288 with 1 Axes>"
      ]
     },
     "metadata": {
      "needs_background": "light"
     },
     "output_type": "display_data"
    }
   ],
   "source": [
    "# temp_win histogram\n",
    "plt.hist(df[df[\"home_w_l_t\"] == \"WIN\"][\"weather_temperature\"])\n",
    "plt.title(\"Temperature vs Wins Histogram\")\n",
    "plt.xlabel(\"Temperature (Fahrenheit)\")\n",
    "plt.ylabel(\"Number of games\")\n",
    "plt.show()"
   ]
  },
  {
   "cell_type": "code",
   "execution_count": 16,
   "metadata": {},
   "outputs": [
    {
     "data": {
      "image/png": "[encoded data removed]",
      "text/plain": [
       "<Figure size 432x288 with 1 Axes>"
      ]
     },
     "metadata": {
      "needs_background": "light"
     },
     "output_type": "display_data"
    }
   ],
   "source": [
    "# temp_tie histogram\n",
    "plt.hist(df[df[\"home_w_l_t\"] == \"TIE\"][\"weather_temperature\"])\n",
    "plt.title(\"Temperature vs Ties Histogram\")\n",
    "plt.xlabel(\"Temperature (Fahrenheit)\")\n",
    "plt.ylabel(\"Number of games\")\n",
    "plt.show()\n"
   ]
  },
  {
   "cell_type": "code",
   "execution_count": 18,
   "metadata": {},
   "outputs": [
    {
     "data": {
      "image/png": "[encoded data removed]",
      "text/plain": [
       "<Figure size 432x288 with 1 Axes>"
      ]
     },
     "metadata": {
      "needs_background": "light"
     },
     "output_type": "display_data"
    }
   ],
   "source": [
    "# temp_loss histogram\n",
    "plt.hist(df[df[\"home_w_l_t\"] == \"LOSS\"][\"weather_temperature\"])\n",
    "plt.title(\"Temperature vs Losses Histogram\")\n",
    "plt.xlabel(\"Temperature (Fahrenheit)\")\n",
    "plt.ylabel(\"Number of games\")\n",
    "plt.show()"
   ]
  },
  {
   "cell_type": "markdown",
   "metadata": {},
   "source": [
    "Histograms for game outcomes and wind speeds"
   ]
  },
  {
   "cell_type": "code",
   "execution_count": 20,
   "metadata": {},
   "outputs": [
    {
     "data": {
      "image/png": "[encoded data removed]",
      "text/plain": [
       "<Figure size 432x288 with 1 Axes>"
      ]
     },
     "metadata": {
      "needs_background": "light"
     },
     "output_type": "display_data"
    }
   ],
   "source": [
    "# wind_win histogram\n",
    "plt.hist(df[df[\"home_w_l_t\"] == \"WIN\"][\"weather_wind_mph\"])\n",
    "plt.title(\"Wind Speed vs Wins Histogram\")\n",
    "plt.xlabel(\"Wind Speed (MPH)\")\n",
    "plt.ylabel(\"Number of games\")\n",
    "plt.show()"
   ]
  },
  {
   "cell_type": "code",
   "execution_count": 21,
   "metadata": {},
   "outputs": [
    {
     "data": {
      "image/png": "[encoded data removed]",
      "text/plain": [
       "<Figure size 432x288 with 1 Axes>"
      ]
     },
     "metadata": {
      "needs_background": "light"
     },
     "output_type": "display_data"
    }
   ],
   "source": [
    "# wind_tie histogram\n",
    "plt.hist(df[df[\"home_w_l_t\"] == \"TIE\"][\"weather_wind_mph\"])\n",
    "plt.title(\"Wind Speed vs Ties Histogram\")\n",
    "plt.xlabel(\"Wind Speed (MPH)\")\n",
    "plt.ylabel(\"Number of games\")\n",
    "plt.show()"
   ]
  },
  {
   "cell_type": "code",
   "execution_count": 22,
   "metadata": {},
   "outputs": [
    {
     "data": {
      "image/png": "[encoded data removed]",
      "text/plain": [
       "<Figure size 432x288 with 1 Axes>"
      ]
     },
     "metadata": {
      "needs_background": "light"
     },
     "output_type": "display_data"
    }
   ],
   "source": [
    "# wind_loss histogram\n",
    "plt.hist(df[df[\"home_w_l_t\"] == \"LOSS\"][\"weather_wind_mph\"])\n",
    "plt.title(\"Wind Speed vs Losses Histogram\")\n",
    "plt.xlabel(\"Wind Speed (MPH)\")\n",
    "plt.ylabel(\"Number of games\")\n",
    "plt.show()"
   ]
  },
  {
   "cell_type": "markdown",
   "metadata": {},
   "source": [
    "We will now do a t-test to check whether there is a statistically significant difference between **Temperature vs Wins** and **Temperature vs Losses**."
   ]
  },
  {
   "cell_type": "code",
   "execution_count": 27,
   "metadata": {},
   "outputs": [
    {
     "data": {
      "text/plain": [
       "(-2.7410490442999609, 0.0061374191033584918)"
      ]
     },
     "execution_count": 27,
     "metadata": {},
     "output_type": "execute_result"
    }
   ],
   "source": [
    "t_val_weather, p_val_weather = ttest_ind(temp_win, temp_loss)\n",
    "t_val_weather, p_val_weather"
   ]
  },
  {
   "cell_type": "markdown",
   "metadata": {},
   "source": [
    "Indeed there is a statistically significant difference, as the p-value is very small."
   ]
  },
  {
   "cell_type": "markdown",
   "metadata": {},
   "source": [
    "We will now do a t-test to check whether there is a statistically significant difference between **Wind Speed vs Wins** and **Wind Speed vs Losses**."
   ]
  },
  {
   "cell_type": "code",
   "execution_count": 29,
   "metadata": {},
   "outputs": [
    {
     "data": {
      "text/plain": [
       "(1.4349573206864878, 0.15133686599379564)"
      ]
     },
     "execution_count": 29,
     "metadata": {},
     "output_type": "execute_result"
    }
   ],
   "source": [
    "t_val_wind, p_val_wind = ttest_ind(wind_win, wind_loss)\n",
    "t_val_wind, p_val_wind"
   ]
  },
  {
   "cell_type": "markdown",
   "metadata": {},
   "source": [
    "The t-test does not yield a small p-value, so we cannot conclude that there is a statistically significant difference."
   ]
  },
  {
   "cell_type": "code",
   "execution_count": 33,
   "metadata": {},
   "outputs": [],
   "source": [
    "# Make a copy of df\n",
    "df1 = df.copy()"
   ]
  },
  {
   "cell_type": "markdown",
   "metadata": {},
   "source": [
    "We are now going to compute the average temperature of all the games won by each team. The averages will be saved as a new column '*avg_temperature*'"
   ]
  },
  {
   "cell_type": "code",
   "execution_count": 34,
   "metadata": {},
   "outputs": [],
   "source": [
    "df1['avg_temperature'] = df1.groupby(['team_home', 'home_w_l_t'])['weather_temperature'].transform(np.mean)"
   ]
  },
  {
   "cell_type": "markdown",
   "metadata": {},
   "source": [
    "Compute the standard deviation of temperature of all the games won by each team and store in new column '*std_temperature*'"
   ]
  },
  {
   "cell_type": "code",
   "execution_count": 35,
   "metadata": {},
   "outputs": [],
   "source": [
    "df1['std_temperature'] = df1.groupby(['team_home', 'home_w_l_t'])['weather_temperature'].transform(np.std)"
   ]
  },
  {
   "cell_type": "markdown",
   "metadata": {},
   "source": [
    "With standard deviation and average for each team, we will compute the z-score and store as a new column '*z_score_temperature*'"
   ]
  },
  {
   "cell_type": "code",
   "execution_count": 36,
   "metadata": {},
   "outputs": [],
   "source": [
    "# With average and standard deviation of each group already computed, we can proceed to compute the z-score.\n",
    "# The z-scores are saved as a new column 'z_score_temperature'\n",
    "df1['z_score_temperature'] = (df1['weather_temperature'] - df1['avg_temperature']) / df1['std_temperature']"
   ]
  },
  {
   "cell_type": "code",
   "execution_count": 37,
   "metadata": {
    "scrolled": true
   },
   "outputs": [
    {
     "data": {
      "text/html": [
       "<div>\n",
       "<style scoped>\n",
       "    .dataframe tbody tr th:only-of-type {\n",
       "        vertical-align: middle;\n",
       "    }\n",
       "\n",
       "    .dataframe tbody tr th {\n",
       "        vertical-align: top;\n",
       "    }\n",
       "\n",
       "    .dataframe thead th {\n",
       "        text-align: right;\n",
       "    }\n",
       "</style>\n",
       "<table border=\"1\" class=\"dataframe\">\n",
       "  <thead>\n",
       "    <tr style=\"text-align: right;\">\n",
       "      <th></th>\n",
       "      <th>schedule_date</th>\n",
       "      <th>team_home</th>\n",
       "      <th>score_home</th>\n",
       "      <th>score_away</th>\n",
       "      <th>team_away</th>\n",
       "      <th>stadium</th>\n",
       "      <th>weather_temperature</th>\n",
       "      <th>weather_wind_mph</th>\n",
       "      <th>weather_humidity</th>\n",
       "      <th>home_w_l_t</th>\n",
       "      <th>avg_temperature</th>\n",
       "      <th>std_temperature</th>\n",
       "      <th>z_score_temperature</th>\n",
       "    </tr>\n",
       "  </thead>\n",
       "  <tbody>\n",
       "    <tr>\n",
       "      <th>0</th>\n",
       "      <td>09/02/1966</td>\n",
       "      <td>Miami Dolphins</td>\n",
       "      <td>14</td>\n",
       "      <td>23</td>\n",
       "      <td>Oakland Raiders</td>\n",
       "      <td>Orange Bowl</td>\n",
       "      <td>83.0</td>\n",
       "      <td>6.0</td>\n",
       "      <td>71</td>\n",
       "      <td>LOSS</td>\n",
       "      <td>76.254386</td>\n",
       "      <td>6.995335</td>\n",
       "      <td>0.964302</td>\n",
       "    </tr>\n",
       "    <tr>\n",
       "      <th>1</th>\n",
       "      <td>09/03/1966</td>\n",
       "      <td>Houston Oilers</td>\n",
       "      <td>45</td>\n",
       "      <td>7</td>\n",
       "      <td>Denver Broncos</td>\n",
       "      <td>Rice Stadium</td>\n",
       "      <td>81.0</td>\n",
       "      <td>7.0</td>\n",
       "      <td>70</td>\n",
       "      <td>WIN</td>\n",
       "      <td>79.000000</td>\n",
       "      <td>2.828427</td>\n",
       "      <td>0.707107</td>\n",
       "    </tr>\n",
       "    <tr>\n",
       "      <th>2</th>\n",
       "      <td>09/04/1966</td>\n",
       "      <td>San Diego Chargers</td>\n",
       "      <td>27</td>\n",
       "      <td>7</td>\n",
       "      <td>Buffalo Bills</td>\n",
       "      <td>Balboa Stadium</td>\n",
       "      <td>70.0</td>\n",
       "      <td>7.0</td>\n",
       "      <td>82</td>\n",
       "      <td>WIN</td>\n",
       "      <td>63.828877</td>\n",
       "      <td>7.095555</td>\n",
       "      <td>0.869717</td>\n",
       "    </tr>\n",
       "    <tr>\n",
       "      <th>3</th>\n",
       "      <td>09/09/1966</td>\n",
       "      <td>Miami Dolphins</td>\n",
       "      <td>14</td>\n",
       "      <td>19</td>\n",
       "      <td>New York Jets</td>\n",
       "      <td>Orange Bowl</td>\n",
       "      <td>82.0</td>\n",
       "      <td>11.0</td>\n",
       "      <td>78</td>\n",
       "      <td>LOSS</td>\n",
       "      <td>76.254386</td>\n",
       "      <td>6.995335</td>\n",
       "      <td>0.821349</td>\n",
       "    </tr>\n",
       "    <tr>\n",
       "      <th>4</th>\n",
       "      <td>09/10/1966</td>\n",
       "      <td>Green Bay Packers</td>\n",
       "      <td>24</td>\n",
       "      <td>3</td>\n",
       "      <td>Baltimore Colts</td>\n",
       "      <td>Lambeau Field</td>\n",
       "      <td>64.0</td>\n",
       "      <td>8.0</td>\n",
       "      <td>62</td>\n",
       "      <td>WIN</td>\n",
       "      <td>42.695652</td>\n",
       "      <td>16.134627</td>\n",
       "      <td>1.320412</td>\n",
       "    </tr>\n",
       "  </tbody>\n",
       "</table>\n",
       "</div>"
      ],
      "text/plain": [
       "  schedule_date           team_home  score_home  score_away        team_away  \\\n",
       "0    09/02/1966      Miami Dolphins          14          23  Oakland Raiders   \n",
       "1    09/03/1966      Houston Oilers          45           7   Denver Broncos   \n",
       "2    09/04/1966  San Diego Chargers          27           7    Buffalo Bills   \n",
       "3    09/09/1966      Miami Dolphins          14          19    New York Jets   \n",
       "4    09/10/1966   Green Bay Packers          24           3  Baltimore Colts   \n",
       "\n",
       "          stadium  weather_temperature  weather_wind_mph weather_humidity  \\\n",
       "0     Orange Bowl                 83.0               6.0               71   \n",
       "1    Rice Stadium                 81.0               7.0               70   \n",
       "2  Balboa Stadium                 70.0               7.0               82   \n",
       "3     Orange Bowl                 82.0              11.0               78   \n",
       "4   Lambeau Field                 64.0               8.0               62   \n",
       "\n",
       "  home_w_l_t  avg_temperature  std_temperature  z_score_temperature  \n",
       "0       LOSS        76.254386         6.995335             0.964302  \n",
       "1        WIN        79.000000         2.828427             0.707107  \n",
       "2        WIN        63.828877         7.095555             0.869717  \n",
       "3       LOSS        76.254386         6.995335             0.821349  \n",
       "4        WIN        42.695652        16.134627             1.320412  "
      ]
     },
     "execution_count": 37,
     "metadata": {},
     "output_type": "execute_result"
    }
   ],
   "source": [
    "df1.head()"
   ]
  },
  {
   "cell_type": "markdown",
   "metadata": {},
   "source": [
    "We want to see if there are any correlation with the outcome of the game based on the difference of temperature from their average home temperature."
   ]
  },
  {
   "cell_type": "code",
   "execution_count": 38,
   "metadata": {},
   "outputs": [
    {
     "data": {
      "text/html": [
       "<div>\n",
       "<style scoped>\n",
       "    .dataframe tbody tr th:only-of-type {\n",
       "        vertical-align: middle;\n",
       "    }\n",
       "\n",
       "    .dataframe tbody tr th {\n",
       "        vertical-align: top;\n",
       "    }\n",
       "\n",
       "    .dataframe thead th {\n",
       "        text-align: right;\n",
       "    }\n",
       "</style>\n",
       "<table border=\"1\" class=\"dataframe\">\n",
       "  <thead>\n",
       "    <tr style=\"text-align: right;\">\n",
       "      <th></th>\n",
       "      <th>schedule_date</th>\n",
       "      <th>team_home</th>\n",
       "      <th>score_home</th>\n",
       "      <th>score_away</th>\n",
       "      <th>team_away</th>\n",
       "      <th>stadium</th>\n",
       "      <th>weather_temperature</th>\n",
       "      <th>weather_wind_mph</th>\n",
       "      <th>weather_humidity</th>\n",
       "      <th>home_w_l_t</th>\n",
       "      <th>avg_temperature</th>\n",
       "      <th>std_temperature</th>\n",
       "      <th>z_score_temperature</th>\n",
       "      <th>diff_temperature</th>\n",
       "    </tr>\n",
       "  </thead>\n",
       "  <tbody>\n",
       "    <tr>\n",
       "      <th>0</th>\n",
       "      <td>09/02/1966</td>\n",
       "      <td>Miami Dolphins</td>\n",
       "      <td>14</td>\n",
       "      <td>23</td>\n",
       "      <td>Oakland Raiders</td>\n",
       "      <td>Orange Bowl</td>\n",
       "      <td>83.0</td>\n",
       "      <td>6.0</td>\n",
       "      <td>71</td>\n",
       "      <td>LOSS</td>\n",
       "      <td>76.254386</td>\n",
       "      <td>6.995335</td>\n",
       "      <td>0.964302</td>\n",
       "      <td>-6.745614</td>\n",
       "    </tr>\n",
       "    <tr>\n",
       "      <th>1</th>\n",
       "      <td>09/03/1966</td>\n",
       "      <td>Houston Oilers</td>\n",
       "      <td>45</td>\n",
       "      <td>7</td>\n",
       "      <td>Denver Broncos</td>\n",
       "      <td>Rice Stadium</td>\n",
       "      <td>81.0</td>\n",
       "      <td>7.0</td>\n",
       "      <td>70</td>\n",
       "      <td>WIN</td>\n",
       "      <td>79.000000</td>\n",
       "      <td>2.828427</td>\n",
       "      <td>0.707107</td>\n",
       "      <td>-2.000000</td>\n",
       "    </tr>\n",
       "    <tr>\n",
       "      <th>2</th>\n",
       "      <td>09/04/1966</td>\n",
       "      <td>San Diego Chargers</td>\n",
       "      <td>27</td>\n",
       "      <td>7</td>\n",
       "      <td>Buffalo Bills</td>\n",
       "      <td>Balboa Stadium</td>\n",
       "      <td>70.0</td>\n",
       "      <td>7.0</td>\n",
       "      <td>82</td>\n",
       "      <td>WIN</td>\n",
       "      <td>63.828877</td>\n",
       "      <td>7.095555</td>\n",
       "      <td>0.869717</td>\n",
       "      <td>-6.171123</td>\n",
       "    </tr>\n",
       "    <tr>\n",
       "      <th>3</th>\n",
       "      <td>09/09/1966</td>\n",
       "      <td>Miami Dolphins</td>\n",
       "      <td>14</td>\n",
       "      <td>19</td>\n",
       "      <td>New York Jets</td>\n",
       "      <td>Orange Bowl</td>\n",
       "      <td>82.0</td>\n",
       "      <td>11.0</td>\n",
       "      <td>78</td>\n",
       "      <td>LOSS</td>\n",
       "      <td>76.254386</td>\n",
       "      <td>6.995335</td>\n",
       "      <td>0.821349</td>\n",
       "      <td>-5.745614</td>\n",
       "    </tr>\n",
       "    <tr>\n",
       "      <th>4</th>\n",
       "      <td>09/10/1966</td>\n",
       "      <td>Green Bay Packers</td>\n",
       "      <td>24</td>\n",
       "      <td>3</td>\n",
       "      <td>Baltimore Colts</td>\n",
       "      <td>Lambeau Field</td>\n",
       "      <td>64.0</td>\n",
       "      <td>8.0</td>\n",
       "      <td>62</td>\n",
       "      <td>WIN</td>\n",
       "      <td>42.695652</td>\n",
       "      <td>16.134627</td>\n",
       "      <td>1.320412</td>\n",
       "      <td>-21.304348</td>\n",
       "    </tr>\n",
       "  </tbody>\n",
       "</table>\n",
       "</div>"
      ],
      "text/plain": [
       "  schedule_date           team_home  score_home  score_away        team_away  \\\n",
       "0    09/02/1966      Miami Dolphins          14          23  Oakland Raiders   \n",
       "1    09/03/1966      Houston Oilers          45           7   Denver Broncos   \n",
       "2    09/04/1966  San Diego Chargers          27           7    Buffalo Bills   \n",
       "3    09/09/1966      Miami Dolphins          14          19    New York Jets   \n",
       "4    09/10/1966   Green Bay Packers          24           3  Baltimore Colts   \n",
       "\n",
       "          stadium  weather_temperature  weather_wind_mph weather_humidity  \\\n",
       "0     Orange Bowl                 83.0               6.0               71   \n",
       "1    Rice Stadium                 81.0               7.0               70   \n",
       "2  Balboa Stadium                 70.0               7.0               82   \n",
       "3     Orange Bowl                 82.0              11.0               78   \n",
       "4   Lambeau Field                 64.0               8.0               62   \n",
       "\n",
       "  home_w_l_t  avg_temperature  std_temperature  z_score_temperature  \\\n",
       "0       LOSS        76.254386         6.995335             0.964302   \n",
       "1        WIN        79.000000         2.828427             0.707107   \n",
       "2        WIN        63.828877         7.095555             0.869717   \n",
       "3       LOSS        76.254386         6.995335             0.821349   \n",
       "4        WIN        42.695652        16.134627             1.320412   \n",
       "\n",
       "   diff_temperature  \n",
       "0         -6.745614  \n",
       "1         -2.000000  \n",
       "2         -6.171123  \n",
       "3         -5.745614  \n",
       "4        -21.304348  "
      ]
     },
     "execution_count": 38,
     "metadata": {},
     "output_type": "execute_result"
    }
   ],
   "source": [
    "df1['diff_temperature'] = df1['avg_temperature'] - df1['weather_temperature']\n",
    "df1.head()"
   ]
  },
  {
   "cell_type": "code",
   "execution_count": 40,
   "metadata": {},
   "outputs": [
    {
     "data": {
      "text/plain": [
       "Text(0, 0.5, 'Density')"
      ]
     },
     "execution_count": 40,
     "metadata": {},
     "output_type": "execute_result"
    },
    {
     "data": {
      "image/png": "[encoded data removed]",
      "text/plain": [
       "<Figure size 432x288 with 1 Axes>"
      ]
     },
     "metadata": {
      "needs_background": "light"
     },
     "output_type": "display_data"
    }
   ],
   "source": [
    "loss_temp = df1.loc[df1['home_w_l_t'] == 'LOSS']\n",
    "win_temp = df1.loc[df1['home_w_l_t'] == 'WIN']\n",
    "#tie_temp = df1.loc[df1['home_w_l_t'] == 'TIE'] #TODO possibly take this out\n",
    "\n",
    "\n",
    "\n",
    "sns.distplot(loss_temp['diff_temperature'], hist = False, kde = True, kde_kws = {'linewidth': 3}, label = 'Win')\n",
    "sns.distplot(win_temp['diff_temperature'], hist = False, kde = True, kde_kws = {'linewidth': 3}, label = 'Loss')\n",
    "#sns.distplot(tie_temp['diff_temperature'], hist = False, kde = True, kde_kws = {'linewidth': 3}, label = 'Tie')\n",
    "\n",
    "plt.legend(prop={'size': 16}, title = 'Game Outcome')\n",
    "plt.title('Density Plot Based On Game Outcome')\n",
    "plt.xlabel('Temperature Differences (Fahrenheit)')\n",
    "plt.ylabel('Density')"
   ]
  },
  {
   "cell_type": "markdown",
   "metadata": {},
   "source": [
    "# Ethics and Privacy"
   ]
  },
  {
   "cell_type": "markdown",
   "metadata": {},
   "source": [
    "We don’t have any privacy issues regarding this data as it was built from publicly available data published by the National Football League (NFL), as well as publicly available weather data from the National Oceanic and Atmospheric Administration (NOAA). There may be some potential biases in our dataset, mainly in the betting variables such as favorite id, spread favorite, and over under line. Since we did not use any of the betting data and the remaining variables that we did use are concrete numbers, we would not run into issues with biases in the data we’ve used. We do expect the national organizations to provide bias data such as game outcomes or weather data.\n",
    "\n",
    "The ramifications of the results of this study could span to the population who places bets on the outcomes of NFL games, and this study could be used to predict unlikely outcomes. Our conclusion may possibly affect the betting odds that line-makers create. In addition to betting odds being affected, bet placers will also be affected by the findings of this study. Changes in the betting odds, as well as betting trends followed by bet placers can affect personal affairs regarding a person’s economic status. \n",
    "\n",
    "It is also important to consider the privacy and reputation of the sports teams analyzed, as negative attention to a team’s performance or brand may negatively affect their public opinion. As many people such as players, coaches, and reporters revolve their careers around NFL games, affecting the popularity of sports teams may negatively affect their careers. "
   ]
  },
  {
   "cell_type": "markdown",
   "metadata": {},
   "source": [
    "# Conclusion"
   ]
  },
  {
   "cell_type": "markdown",
   "metadata": {},
   "source": [
    "Our analyses after creating both our histograms and prediction calculations were unfruitful in relation to our prediction. Our original hypothesis was that a stadium's humidity and wind speed had a factor in how the home team performed, but as it quickly showed no correlation in our histograms it was disregarded.\n",
    "We then moved on to average winning temperature. It was promising, as there was a variety in the average winning temperature. However, on inspection of our plotted map, it was mostly just due to average temperature of a stadium in general, with warmer performing teams being more south in the U.S., and colder teams performing better in the north-east. This is not insignificant, however, as we could use this data to run prediction simulators to determine whether a team at an away game has a higher chance to win if the temperature is closer to their average winning temperature.\n",
    "Running the simulator, we had a prediction rating of 51%, which was disappointing, as it was just flipping a coin. We discovered that many teams in the prediction we were running actually never played each other in our dataset. We altered it to just have the team with the higher win ratio win in that situation, and our prediction rating went up to 62%, which is also due to the fact that a better scoring team may just win regardless of weather.\n",
    "So in conclusion, we have determined that average winning temperature is mostly irrelevant to the outcome of a game, and humidity and wind speed is also not particularly useful to determine the outcome of a game, pertaining to the number of game data we collected."
   ]
  },
  {
   "cell_type": "markdown",
   "metadata": {},
   "source": [
    "# Discussion"
   ]
  },
  {
   "cell_type": "markdown",
   "metadata": {},
   "source": [
    "As even with more than 10,000 games played as data, as we consider there to be 41 distinct football teams, there were few games\n",
    "played for each possible match-up, with some teams never even playing a match, and so our predictions, while significant, did not match with our original hypothesis.\n",
    "This is also considering the fact that many teams had short-lived careers or changed their brand to another city or team name, which we could combine for more match-ups and therefore different outcomes for our predictions.\n"
   ]
  },
  {
   "cell_type": "markdown",
   "metadata": {},
   "source": [
    "# Future Work"
   ]
  },
  {
   "cell_type": "markdown",
   "metadata": {},
   "source": [
    "With more datasets and better distinguished teams, and we could also analyze other elements of game statistics, such as at what temperature injuries are more likely to occur, player fatigue and switching, and performance statistics of individual players.\n",
    "Perhaps we can also use categorical data, such as whether it was raining or snowing, the frequency that\n",
    "teams have experience in that condition, and their likeliness to win from that data.\n"
   ]
  },
  {
   "cell_type": "code",
   "execution_count": null,
   "metadata": {},
   "outputs": [],
   "source": []
  }
 ],
 "metadata": {
  "kernelspec": {
   "display_name": "Python 3",
   "language": "python",
   "name": "python3"
  },
  "language_info": {
   "codemirror_mode": {
    "name": "ipython",
    "version": 3
   },
   "file_extension": ".py",
   "mimetype": "text/x-python",
   "name": "python",
   "nbconvert_exporter": "python",
   "pygments_lexer": "ipython3",
   "version": "3.6.7"
  }
 },
 "nbformat": 4,
 "nbformat_minor": 2
}
