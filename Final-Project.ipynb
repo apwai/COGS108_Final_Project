{
 "cells": [
  {
   "cell_type": "markdown",
   "metadata": {},
   "source": [
    "# COGS 108 - Final Project "
   ]
  },
  {
   "cell_type": "markdown",
   "metadata": {},
   "source": [
    "# Overview"
   ]
  },
  {
   "cell_type": "markdown",
   "metadata": {},
   "source": [
    "The NFL season usually starts in September and ends in February. Across the 17-week regular season and the playoffs afterwards, weather conditions at a team’s home stadium could change substantially. Furthermore, teams not only play at their home stadiums, but also have to travel to other regions in the country, possibly with very different climate, to play away games. Therefore, it is expected that teams will play under different weather conditions throughout the season. Knowing the relationship between team performance and weather conditions will be useful to NFL teams so that they may adopt different strategies under different weather conditions and hold special training sessions before playing at their least favorite weather conditions.  \n"
   ]
  },
  {
   "cell_type": "markdown",
   "metadata": {},
   "source": [
    "# Names\n",
    "\n",
    "- Annie Wai\n",
    "- Chen Xu\n",
    "- Christopher Yeh\n",
    "- Ronak Sheth\n",
    "- Shun Fujinami\n",
    "\n",
    "- Yupei Zhou"
   ]
  },
  {
   "cell_type": "markdown",
   "metadata": {},
   "source": [
    "# Group Members IDs\n",
    "\n",
    "- A12944645\n",
    "- A15720503\n",
    "- A92086612\n",
    "- A14255552\n",
    "- A13636618\n",
    "- A13410536"
   ]
  },
  {
   "cell_type": "markdown",
   "metadata": {},
   "source": [
    "# Research Question"
   ]
  },
  {
   "cell_type": "markdown",
   "metadata": {},
   "source": [
    "Our question is how does weather, with an emphasis on temperature, wind speed, and humidity affect the outcome of a National Football League (NFL) game. We will be analyzing the weather data during each NFL game, and finding a correlation between how well each team performs within given weather parameters."
   ]
  },
  {
   "cell_type": "markdown",
   "metadata": {},
   "source": [
    "## Background and Prior Work\n"
   ]
  },
  {
   "cell_type": "markdown",
   "metadata": {},
   "source": [
    "\n",
    "References (include links): \n",
    "- 1)\n",
    "- 2)"
   ]
  },
  {
   "cell_type": "markdown",
   "metadata": {},
   "source": [
    "# Hypothesis\n"
   ]
  },
  {
   "cell_type": "markdown",
   "metadata": {},
   "source": [
    "Our hypothesis to the question is that each team will have a preferred weather range in which they perform their best, and that weather range will be most similar to the average weather at their home stadium. "
   ]
  },
  {
   "cell_type": "markdown",
   "metadata": {},
   "source": [
    "# Dataset(s)\n"
   ]
  },
  {
   "cell_type": "markdown",
   "metadata": {},
   "source": [
    "- Dataset Name: NFL scores and betting data\n",
    "- Link to the dataset: https://www.kaggle.com/tobycrabtree/nfl-scores-and-betting-data#spreadspoke_scores.csv\n",
    "- Number of observations: 12400\n",
    "\n",
    "This dataset includes 12,400 games since the 1966 season with 17 variables including: \n",
    "schedule date, schedule season, schedule week, schedule playoff, team home, score home, score away, team away, team favorite id, spread favorite, over under line, stadium, stadium neutral, weather temperature, weather wind mph, weather humidity, and extra weather detail.\n"
   ]
  },
  {
   "cell_type": "markdown",
   "metadata": {},
   "source": [
    "# Setup\n"
   ]
  },
  {
   "cell_type": "code",
   "execution_count": 1,
   "metadata": {},
   "outputs": [],
   "source": [
    "from scipy.stats import ttest_ind, chisquare, normaltest, ttest_1samp\n",
    "\n",
    "import seaborn as sns\n",
    "import pandas as pd\n",
    "import numpy as np\n",
    "import matplotlib.pyplot as plt"
   ]
  },
  {
   "cell_type": "markdown",
   "metadata": {},
   "source": [
    "# Data Cleaning\n"
   ]
  },
  {
   "cell_type": "markdown",
   "metadata": {},
   "source": [
    "We created a dataframe from the dataset csv file. We will drop the following unused columns: schedule season, schedule week, schedule playoff, stadium neutral, team favorite id, spread favorite, and over under line. We will also drop any games played indoors."
   ]
  },
  {
   "cell_type": "code",
   "execution_count": 2,
   "metadata": {},
   "outputs": [],
   "source": [
    "df = pd.read_csv(\"./nfl-scores-and-betting-data/spreadspoke_scores.csv\")\n",
    "df = df.drop(columns=[\"schedule_season\", \"schedule_week\", \"schedule_playoff\", \"stadium_neutral\", \n",
    "                      \"team_favorite_id\", \"spread_favorite\", \"over_under_line\"],\n",
    "             axis=1)\n",
    "df = df[df.weather_detail != \"DOME\"]"
   ]
  },
  {
   "cell_type": "markdown",
   "metadata": {},
   "source": [
    "Based on the score of the home and away team, we want to add a column to indicate the outcome of the game."
   ]
  },
  {
   "cell_type": "code",
   "execution_count": 3,
   "metadata": {},
   "outputs": [],
   "source": [
    "for index, row in df.iterrows():\n",
    "    score_home = df.loc[index]['score_home']\n",
    "    score_away = df.loc[index]['score_away']\n",
    "    if score_home > score_away:\n",
    "        df.at[index, 'home_w_l_t'] = 'WIN'\n",
    "    elif score_away > score_home:\n",
    "         df.at[index, 'home_w_l_t'] = 'LOSS'\n",
    "    else:\n",
    "        df.at[index, 'home_w_l_t'] = 'TIE'"
   ]
  },
  {
   "cell_type": "markdown",
   "metadata": {},
   "source": [
    "It would appear that most entries are missing weather humidity and weather detail, so we are dropping rows without weather humidity and the whole column of weather detail."
   ]
  },
  {
   "cell_type": "code",
   "execution_count": 4,
   "metadata": {},
   "outputs": [
    {
     "data": {
      "text/html": [
       "<div>\n",
       "<style scoped>\n",
       "    .dataframe tbody tr th:only-of-type {\n",
       "        vertical-align: middle;\n",
       "    }\n",
       "\n",
       "    .dataframe tbody tr th {\n",
       "        vertical-align: top;\n",
       "    }\n",
       "\n",
       "    .dataframe thead th {\n",
       "        text-align: right;\n",
       "    }\n",
       "</style>\n",
       "<table border=\"1\" class=\"dataframe\">\n",
       "  <thead>\n",
       "    <tr style=\"text-align: right;\">\n",
       "      <th></th>\n",
       "      <th>schedule_date</th>\n",
       "      <th>team_home</th>\n",
       "      <th>score_home</th>\n",
       "      <th>score_away</th>\n",
       "      <th>team_away</th>\n",
       "      <th>stadium</th>\n",
       "      <th>weather_temperature</th>\n",
       "      <th>weather_wind_mph</th>\n",
       "      <th>weather_humidity</th>\n",
       "      <th>home_w_l_t</th>\n",
       "    </tr>\n",
       "  </thead>\n",
       "  <tbody>\n",
       "    <tr>\n",
       "      <th>0</th>\n",
       "      <td>09/02/1966</td>\n",
       "      <td>Miami Dolphins</td>\n",
       "      <td>14</td>\n",
       "      <td>23</td>\n",
       "      <td>Oakland Raiders</td>\n",
       "      <td>Orange Bowl</td>\n",
       "      <td>83.0</td>\n",
       "      <td>6.0</td>\n",
       "      <td>71</td>\n",
       "      <td>LOSS</td>\n",
       "    </tr>\n",
       "    <tr>\n",
       "      <th>1</th>\n",
       "      <td>09/03/1966</td>\n",
       "      <td>Houston Oilers</td>\n",
       "      <td>45</td>\n",
       "      <td>7</td>\n",
       "      <td>Denver Broncos</td>\n",
       "      <td>Rice Stadium</td>\n",
       "      <td>81.0</td>\n",
       "      <td>7.0</td>\n",
       "      <td>70</td>\n",
       "      <td>WIN</td>\n",
       "    </tr>\n",
       "    <tr>\n",
       "      <th>2</th>\n",
       "      <td>09/04/1966</td>\n",
       "      <td>San Diego Chargers</td>\n",
       "      <td>27</td>\n",
       "      <td>7</td>\n",
       "      <td>Buffalo Bills</td>\n",
       "      <td>Balboa Stadium</td>\n",
       "      <td>70.0</td>\n",
       "      <td>7.0</td>\n",
       "      <td>82</td>\n",
       "      <td>WIN</td>\n",
       "    </tr>\n",
       "    <tr>\n",
       "      <th>3</th>\n",
       "      <td>09/09/1966</td>\n",
       "      <td>Miami Dolphins</td>\n",
       "      <td>14</td>\n",
       "      <td>19</td>\n",
       "      <td>New York Jets</td>\n",
       "      <td>Orange Bowl</td>\n",
       "      <td>82.0</td>\n",
       "      <td>11.0</td>\n",
       "      <td>78</td>\n",
       "      <td>LOSS</td>\n",
       "    </tr>\n",
       "    <tr>\n",
       "      <th>4</th>\n",
       "      <td>09/10/1966</td>\n",
       "      <td>Green Bay Packers</td>\n",
       "      <td>24</td>\n",
       "      <td>3</td>\n",
       "      <td>Baltimore Colts</td>\n",
       "      <td>Lambeau Field</td>\n",
       "      <td>64.0</td>\n",
       "      <td>8.0</td>\n",
       "      <td>62</td>\n",
       "      <td>WIN</td>\n",
       "    </tr>\n",
       "  </tbody>\n",
       "</table>\n",
       "</div>"
      ],
      "text/plain": [
       "  schedule_date           team_home  score_home  score_away        team_away  \\\n",
       "0    09/02/1966      Miami Dolphins          14          23  Oakland Raiders   \n",
       "1    09/03/1966      Houston Oilers          45           7   Denver Broncos   \n",
       "2    09/04/1966  San Diego Chargers          27           7    Buffalo Bills   \n",
       "3    09/09/1966      Miami Dolphins          14          19    New York Jets   \n",
       "4    09/10/1966   Green Bay Packers          24           3  Baltimore Colts   \n",
       "\n",
       "          stadium  weather_temperature  weather_wind_mph weather_humidity  \\\n",
       "0     Orange Bowl                 83.0               6.0               71   \n",
       "1    Rice Stadium                 81.0               7.0               70   \n",
       "2  Balboa Stadium                 70.0               7.0               82   \n",
       "3     Orange Bowl                 82.0              11.0               78   \n",
       "4   Lambeau Field                 64.0               8.0               62   \n",
       "\n",
       "  home_w_l_t  \n",
       "0       LOSS  \n",
       "1        WIN  \n",
       "2        WIN  \n",
       "3       LOSS  \n",
       "4        WIN  "
      ]
     },
     "execution_count": 4,
     "metadata": {},
     "output_type": "execute_result"
    }
   ],
   "source": [
    "df.dropna(subset=['weather_humidity'], inplace = True)\n",
    "df = df.drop(columns = ['weather_detail'])\n",
    "df.head()"
   ]
  },
  {
   "cell_type": "markdown",
   "metadata": {},
   "source": [
    "Here we'll gather the temperature and wind speed data separately."
   ]
  },
  {
   "cell_type": "code",
   "execution_count": 5,
   "metadata": {},
   "outputs": [],
   "source": [
    "temp_win = []\n",
    "temp_tie = []\n",
    "temp_loss = []\n",
    "wind_win = []\n",
    "wind_tie = []\n",
    "wind_loss = []\n",
    "\n",
    "for index, row in df.iterrows():\n",
    "    if row[\"home_w_l_t\"] == \"WIN\":\n",
    "        temp_win.append(row[\"weather_temperature\"])\n",
    "        wind_win.append(row[\"weather_wind_mph\"])\n",
    "    elif row[\"home_w_l_t\"] == \"TIE\":\n",
    "        temp_tie.append(row[\"weather_temperature\"])\n",
    "        wind_tie.append(row[\"weather_wind_mph\"])\n",
    "    else:\n",
    "        temp_loss.append(row[\"weather_temperature\"])\n",
    "        wind_loss.append(row[\"weather_wind_mph\"])"
   ]
  },
  {
   "cell_type": "markdown",
   "metadata": {},
   "source": [
    "# Data Analysis & Results"
   ]
  },
  {
   "cell_type": "code",
   "execution_count": 6,
   "metadata": {},
   "outputs": [
    {
     "data": {
      "text/plain": [
       "(array([  13.,   35.,  109.,  336.,  699.,  967., 1143.,  973.,  503.,\n",
       "          84.]),\n",
       " array([-5. ,  4.7, 14.4, 24.1, 33.8, 43.5, 53.2, 62.9, 72.6, 82.3, 92. ]),\n",
       " <a list of 10 Patch objects>)"
      ]
     },
     "execution_count": 6,
     "metadata": {},
     "output_type": "execute_result"
    },
    {
     "data": {
      "image/png": "[encoded data removed]",
      "text/plain": [
       "<Figure size 432x288 with 1 Axes>"
      ]
     },
     "metadata": {
      "needs_background": "light"
     },
     "output_type": "display_data"
    }
   ],
   "source": [
    "# here I will graph the histogram for the temperatures\n",
    "# temp_win histogram\n",
    "plt.hist(df[df[\"home_w_l_t\"] == \"WIN\"][\"weather_temperature\"])"
   ]
  },
  {
   "cell_type": "code",
   "execution_count": 7,
   "metadata": {},
   "outputs": [
    {
     "data": {
      "text/plain": [
       "(array([ 2.,  4., 10.,  7.,  7., 17., 12.,  6.,  3.,  2.]),\n",
       " array([20. , 26.2, 32.4, 38.6, 44.8, 51. , 57.2, 63.4, 69.6, 75.8, 82. ]),\n",
       " <a list of 10 Patch objects>)"
      ]
     },
     "execution_count": 7,
     "metadata": {},
     "output_type": "execute_result"
    },
    {
     "data": {
      "image/png": "[encoded data removed]",
      "text/plain": [
       "<Figure size 432x288 with 1 Axes>"
      ]
     },
     "metadata": {
      "needs_background": "light"
     },
     "output_type": "display_data"
    }
   ],
   "source": [
    "# temp_tie histogram\n",
    "plt.hist(df[df[\"home_w_l_t\"] == \"TIE\"][\"weather_temperature\"])"
   ]
  },
  {
   "cell_type": "code",
   "execution_count": 8,
   "metadata": {},
   "outputs": [
    {
     "data": {
      "text/plain": [
       "(array([  7.,  24., 101., 287., 559., 758., 817., 581., 288.,  34.]),\n",
       " array([-2. ,  7.7, 17.4, 27.1, 36.8, 46.5, 56.2, 65.9, 75.6, 85.3, 95. ]),\n",
       " <a list of 10 Patch objects>)"
      ]
     },
     "execution_count": 8,
     "metadata": {},
     "output_type": "execute_result"
    },
    {
     "data": {
      "image/png": "[encoded data removed]",
      "text/plain": [
       "<Figure size 432x288 with 1 Axes>"
      ]
     },
     "metadata": {
      "needs_background": "light"
     },
     "output_type": "display_data"
    }
   ],
   "source": [
    "# temp_loss histogram\n",
    "plt.hist(df[df[\"home_w_l_t\"] == \"LOSS\"][\"weather_temperature\"])"
   ]
  },
  {
   "cell_type": "code",
   "execution_count": 9,
   "metadata": {},
   "outputs": [
    {
     "data": {
      "text/plain": [
       "(array([ 143.,  722., 1438., 1283.,  681.,  371.,  144.,   56.,   22.,\n",
       "           2.]),\n",
       " array([ 0. ,  3.1,  6.2,  9.3, 12.4, 15.5, 18.6, 21.7, 24.8, 27.9, 31. ]),\n",
       " <a list of 10 Patch objects>)"
      ]
     },
     "execution_count": 9,
     "metadata": {},
     "output_type": "execute_result"
    },
    {
     "data": {
      "image/png": "[encoded data removed]",
      "text/plain": [
       "<Figure size 432x288 with 1 Axes>"
      ]
     },
     "metadata": {
      "needs_background": "light"
     },
     "output_type": "display_data"
    }
   ],
   "source": [
    "# histograms for wind_speeds\n",
    "# wind_win histogram\n",
    "plt.hist(df[df[\"home_w_l_t\"] == \"WIN\"][\"weather_wind_mph\"])"
   ]
  },
  {
   "cell_type": "code",
   "execution_count": 10,
   "metadata": {},
   "outputs": [
    {
     "data": {
      "text/plain": [
       "(array([ 9.,  8., 19., 15., 10.,  4.,  3.,  0.,  1.,  1.]),\n",
       " array([ 4. ,  6.1,  8.2, 10.3, 12.4, 14.5, 16.6, 18.7, 20.8, 22.9, 25. ]),\n",
       " <a list of 10 Patch objects>)"
      ]
     },
     "execution_count": 10,
     "metadata": {},
     "output_type": "execute_result"
    },
    {
     "data": {
      "image/png": "[encoded data removed]",
      "text/plain": [
       "<Figure size 432x288 with 1 Axes>"
      ]
     },
     "metadata": {
      "needs_background": "light"
     },
     "output_type": "display_data"
    }
   ],
   "source": [
    "# wind_tie histogram\n",
    "plt.hist(df[df[\"home_w_l_t\"] == \"TIE\"][\"weather_wind_mph\"])"
   ]
  },
  {
   "cell_type": "code",
   "execution_count": 11,
   "metadata": {},
   "outputs": [
    {
     "data": {
      "text/plain": [
       "(array([ 128.,  522., 1033.,  896.,  498.,  263.,   81.,   22.,    8.,\n",
       "           5.]),\n",
       " array([ 0. ,  3.2,  6.4,  9.6, 12.8, 16. , 19.2, 22.4, 25.6, 28.8, 32. ]),\n",
       " <a list of 10 Patch objects>)"
      ]
     },
     "execution_count": 11,
     "metadata": {},
     "output_type": "execute_result"
    },
    {
     "data": {
      "image/png": "[encoded data removed]",
      "text/plain": [
       "<Figure size 432x288 with 1 Axes>"
      ]
     },
     "metadata": {
      "needs_background": "light"
     },
     "output_type": "display_data"
    }
   ],
   "source": [
    "# wind_loss histogram\n",
    "plt.hist(df[df[\"home_w_l_t\"] == \"LOSS\"][\"weather_wind_mph\"])"
   ]
  },
  {
   "cell_type": "markdown",
   "metadata": {},
   "source": [
    "Use a t-test to check if there is any statistically significant difference between temp_win and temp_loss. We set the significance level 0.01. If there is a significant difference, then temperature might be useful in determining outcomes of the matches. As it turns out, there is a statistically significant difference, as the p-value is smaller than 0.01."
   ]
  },
  {
   "cell_type": "code",
   "execution_count": 103,
   "metadata": {},
   "outputs": [
    {
     "data": {
      "text/plain": [
       "(-2.741049044299961, 0.006137419103358492)"
      ]
     },
     "execution_count": 103,
     "metadata": {},
     "output_type": "execute_result"
    }
   ],
   "source": [
    "t_val_weather, p_val_weather = ttest_ind(temp_win, temp_loss)\n",
    "t_val_weather, p_val_weather"
   ]
  },
  {
   "cell_type": "markdown",
   "metadata": {},
   "source": [
    "We can carry out a similar t-test for wind speed. However, there is not a significant different between wind_win and wind_loss as the p-value is larger than 0.01. "
   ]
  },
  {
   "cell_type": "code",
   "execution_count": 105,
   "metadata": {},
   "outputs": [
    {
     "data": {
      "text/plain": [
       "(1.4349573206864878, 0.15133686599379564)"
      ]
     },
     "execution_count": 105,
     "metadata": {},
     "output_type": "execute_result"
    }
   ],
   "source": [
    "t_val_wind, p_val_wind = ttest_ind(wind_win, wind_loss)\n",
    "t_val_wind, p_val_wind"
   ]
  },
  {
   "cell_type": "markdown",
   "metadata": {},
   "source": [
    "We would like to predict the outcome of the matches based on home team, away team and weather temperature information. We can standarize all the temperatures based on the home team and the outcome of the matches. "
   ]
  },
  {
   "cell_type": "code",
   "execution_count": 16,
   "metadata": {},
   "outputs": [],
   "source": [
    "# Make a copy of df\n",
    "df1 = df.copy()"
   ]
  },
  {
   "cell_type": "markdown",
   "metadata": {},
   "source": [
    "First we can compute the average temperature of games with each of the three outcomes (WIN/LOSS/TIE) for each team."
   ]
  },
  {
   "cell_type": "code",
   "execution_count": 17,
   "metadata": {},
   "outputs": [],
   "source": [
    "# The averages are saved as a new column 'avg_temperature'\n",
    "df1['avg_temperature'] = df1.groupby(['team_home', 'home_w_l_t'])['weather_temperature'].transform(np.mean)"
   ]
  },
  {
   "cell_type": "markdown",
   "metadata": {},
   "source": [
    "Then we can compute the standard deviation of temperatue of games with each of the three outcomes (WIN/LOSS/TIE) for each team."
   ]
  },
  {
   "cell_type": "code",
   "execution_count": 18,
   "metadata": {},
   "outputs": [],
   "source": [
    "# The standard deviations are saved as a new column 'std_temperature'\n",
    "df1['std_temperature'] = df1.groupby(['team_home', 'home_w_l_t'])['weather_temperature'].transform(np.std)"
   ]
  },
  {
   "cell_type": "markdown",
   "metadata": {},
   "source": [
    "With average and standard deviation of each group already computed, we can proceed to compute the z-score."
   ]
  },
  {
   "cell_type": "code",
   "execution_count": 19,
   "metadata": {},
   "outputs": [],
   "source": [
    "# The z-scores are saved as a new column 'z_score_temperature'\n",
    "df1['z_score_temperature'] = (df1['weather_temperature'] - df1['avg_temperature']) / df1['std_temperature']"
   ]
  },
  {
   "cell_type": "code",
   "execution_count": 20,
   "metadata": {
    "scrolled": true
   },
   "outputs": [
    {
     "data": {
      "text/html": [
       "<div>\n",
       "<style scoped>\n",
       "    .dataframe tbody tr th:only-of-type {\n",
       "        vertical-align: middle;\n",
       "    }\n",
       "\n",
       "    .dataframe tbody tr th {\n",
       "        vertical-align: top;\n",
       "    }\n",
       "\n",
       "    .dataframe thead th {\n",
       "        text-align: right;\n",
       "    }\n",
       "</style>\n",
       "<table border=\"1\" class=\"dataframe\">\n",
       "  <thead>\n",
       "    <tr style=\"text-align: right;\">\n",
       "      <th></th>\n",
       "      <th>team_home</th>\n",
       "      <th>weather_temperature</th>\n",
       "      <th>avg_temperature</th>\n",
       "      <th>std_temperature</th>\n",
       "      <th>z_score_temperature</th>\n",
       "    </tr>\n",
       "  </thead>\n",
       "  <tbody>\n",
       "    <tr>\n",
       "      <th>0</th>\n",
       "      <td>Miami Dolphins</td>\n",
       "      <td>83.0</td>\n",
       "      <td>76.254386</td>\n",
       "      <td>6.995335</td>\n",
       "      <td>0.964302</td>\n",
       "    </tr>\n",
       "    <tr>\n",
       "      <th>1</th>\n",
       "      <td>Houston Oilers</td>\n",
       "      <td>81.0</td>\n",
       "      <td>79.000000</td>\n",
       "      <td>2.828427</td>\n",
       "      <td>0.707107</td>\n",
       "    </tr>\n",
       "    <tr>\n",
       "      <th>2</th>\n",
       "      <td>San Diego Chargers</td>\n",
       "      <td>70.0</td>\n",
       "      <td>63.828877</td>\n",
       "      <td>7.095555</td>\n",
       "      <td>0.869717</td>\n",
       "    </tr>\n",
       "    <tr>\n",
       "      <th>3</th>\n",
       "      <td>Miami Dolphins</td>\n",
       "      <td>82.0</td>\n",
       "      <td>76.254386</td>\n",
       "      <td>6.995335</td>\n",
       "      <td>0.821349</td>\n",
       "    </tr>\n",
       "    <tr>\n",
       "      <th>4</th>\n",
       "      <td>Green Bay Packers</td>\n",
       "      <td>64.0</td>\n",
       "      <td>42.695652</td>\n",
       "      <td>16.134627</td>\n",
       "      <td>1.320412</td>\n",
       "    </tr>\n",
       "  </tbody>\n",
       "</table>\n",
       "</div>"
      ],
      "text/plain": [
       "            team_home  weather_temperature  avg_temperature  std_temperature  \\\n",
       "0      Miami Dolphins                 83.0        76.254386         6.995335   \n",
       "1      Houston Oilers                 81.0        79.000000         2.828427   \n",
       "2  San Diego Chargers                 70.0        63.828877         7.095555   \n",
       "3      Miami Dolphins                 82.0        76.254386         6.995335   \n",
       "4   Green Bay Packers                 64.0        42.695652        16.134627   \n",
       "\n",
       "   z_score_temperature  \n",
       "0             0.964302  \n",
       "1             0.707107  \n",
       "2             0.869717  \n",
       "3             0.821349  \n",
       "4             1.320412  "
      ]
     },
     "execution_count": 20,
     "metadata": {},
     "output_type": "execute_result"
    }
   ],
   "source": [
    "df1[['team_home', 'weather_temperature', 'avg_temperature', 'std_temperature', 'z_score_temperature']].head()"
   ]
  },
  {
   "cell_type": "code",
   "execution_count": 39,
   "metadata": {},
   "outputs": [],
   "source": [
    "# Import some useful packages for the classification\n",
    "from sklearn.model_selection import train_test_split\n",
    "from sklearn.ensemble import RandomForestClassifier\n",
    "from sklearn import metrics\n",
    "from sklearn.model_selection import GridSearchCV\n",
    "from sklearn.preprocessing import OneHotEncoder\n",
    "from sklearn.pipeline import Pipeline\n",
    "from sklearn.compose import ColumnTransformer\n",
    "\n",
    "import warnings\n",
    "warnings.filterwarnings(\"ignore\")"
   ]
  },
  {
   "cell_type": "markdown",
   "metadata": {},
   "source": [
    "For this step, we will predict the outcome only based on *team_home*, *team_away*, and *z_score_temperature*. <br>\n",
    "Notice that there are some null values in the *z_score_temperature* column. The reason is that some teams only win/lose/tie one match at home, so the corresponding standard deviation of temperature would be 0. To account for this, we will impute these null values with 0 since theoreticaly they are the same as the average. <br>\n",
    "Furthermore, we drop tied matches because they are very rare and usually we do not expect the match to tie nowadays. <br>\n",
    "Also for we convert all WIN in the *home_w_l_t* columns with 1.0 and all LOSS in the *home_w_l_t* column with 0.0."
   ]
  },
  {
   "cell_type": "code",
   "execution_count": 72,
   "metadata": {},
   "outputs": [],
   "source": [
    "# Impute data\n",
    "classifier_data = df1[['team_home', 'team_away', 'z_score_temperature', 'home_w_l_t']].fillna(0)\n",
    "\n",
    "# Drop ties\n",
    "classifier_data = classifier_data.loc[classifier_data['home_w_l_t'] != 'TIE']\n",
    "\n",
    "# Convert labels\n",
    "classifier_data['home_w_l_t'] = classifier_data['home_w_l_t'].replace({'WIN': 1.0, 'LOSS': 0.0})"
   ]
  },
  {
   "cell_type": "markdown",
   "metadata": {},
   "source": [
    "Split the data into training data (80% of all) and test data (20% of all)"
   ]
  },
  {
   "cell_type": "code",
   "execution_count": 73,
   "metadata": {},
   "outputs": [],
   "source": [
    "X = classifier_data.drop('home_w_l_t', axis = 1)\n",
    "y = classifier_data.home_w_l_t\n",
    "X_train, X_test, y_train, y_test = train_test_split(X, y, test_size=0.2)"
   ]
  },
  {
   "cell_type": "markdown",
   "metadata": {},
   "source": [
    "Preprocess the *team_home* and *team_away* columns by one hot encoding them."
   ]
  },
  {
   "cell_type": "code",
   "execution_count": 74,
   "metadata": {},
   "outputs": [],
   "source": [
    "# Initialize the preprocessor\n",
    "onehot_transformer = Pipeline([('onehot', OneHotEncoder(handle_unknown='ignore'))])\n",
    "preprocessor = ColumnTransformer(transformers = [('onehot', onehot_transformer, ['team_home', 'team_away'])], remainder = 'passthrough')"
   ]
  },
  {
   "cell_type": "markdown",
   "metadata": {},
   "source": [
    "Use the Random Forest classifier. At this step, we do not specify any parameters in the classifier. Then fit the model and compute the predictions."
   ]
  },
  {
   "cell_type": "code",
   "execution_count": 75,
   "metadata": {},
   "outputs": [],
   "source": [
    "classifier = Pipeline([('preprocessor', preprocessor),('classifier', RandomForestClassifier())])\n",
    "\n",
    "# Fit the model \n",
    "classifier.fit(X_train, y_train)\n",
    "\n",
    "# Compute the predictions\n",
    "preds = classifier.predict(X_test)"
   ]
  },
  {
   "cell_type": "markdown",
   "metadata": {},
   "source": [
    "After we have the predictions, we can look at some statistics. <br>\n",
    "The accuracy score measures the overall accuracy of the model and the accuracy score of our model is 55%. <br>\n",
    "The recall score measures the following: Among all the games which the home team wins, what proportions of them are correctly identified by our model. Our model correctly identifies 59% of them. <br>\n",
    "The recall score of negative class measures the following: Among all the games which the home team loses, what proportions of them are correctly identified by our model. Our model correctly identifies 49% of them. <br>\n",
    "The precision score measures the following: Among all the games that are predicted to be a home win by our model, what proportions of them are actually won by the home team. In our model, 63% of the games that are predicted to be a home win by our model are actually won by the home team."
   ]
  },
  {
   "cell_type": "code",
   "execution_count": 77,
   "metadata": {},
   "outputs": [
    {
     "data": {
      "text/plain": [
       "(0.5480769230769231,\n",
       " 0.5803842264914054,\n",
       " 0.5007407407407407,\n",
       " 0.6300768386388584)"
      ]
     },
     "execution_count": 77,
     "metadata": {},
     "output_type": "execute_result"
    }
   ],
   "source": [
    "(metrics.accuracy_score(y_test, preds), # accuracy score\n",
    "metrics.recall_score(y_test, preds), # recall score\n",
    "metrics.recall_score(y_test, preds, pos_label = 0), # recall score of the negative class\n",
    "metrics.precision_score(y_test, preds)) # precision score"
   ]
  },
  {
   "cell_type": "markdown",
   "metadata": {},
   "source": [
    "We can do a grid search to see if changing some parameters in the Random Forest Classifier will result in a better accuracy score. "
   ]
  },
  {
   "cell_type": "code",
   "execution_count": 99,
   "metadata": {},
   "outputs": [
    {
     "data": {
      "text/plain": [
       "{'classifier__max_depth': 40,\n",
       " 'classifier__min_samples_leaf': 7,\n",
       " 'classifier__min_samples_split': 7}"
      ]
     },
     "execution_count": 99,
     "metadata": {},
     "output_type": "execute_result"
    }
   ],
   "source": [
    "# Some candidates for the paratemers.\n",
    "parameters = {\n",
    "    'classifier__max_depth': [10,20,30,40], \n",
    "    'classifier__min_samples_split':[2,4,7,10],\n",
    "    'classifier__min_samples_leaf':[2,4,7,10]\n",
    "}\n",
    "\n",
    "# Use the grid search to search for the best paratemers with 3-fold cross validation\n",
    "clf = GridSearchCV(classifier, parameters, scoring = 'accuracy', cv = 3)\n",
    "clf.fit(X_train, y_train)\n",
    "clf.best_params_"
   ]
  },
  {
   "cell_type": "markdown",
   "metadata": {},
   "source": [
    "Then we can build the Random Forest classifier with the grid searched parameters to see how much increase we gain in accuracy score."
   ]
  },
  {
   "cell_type": "code",
   "execution_count": 100,
   "metadata": {},
   "outputs": [],
   "source": [
    "classifier = Pipeline([('preprocessor', preprocessor),\\\n",
    "                       ('classifier', RandomForestClassifier(max_depth = clf.best_params_['classifier__max_depth'], \\\n",
    "                                                             min_samples_leaf = clf.best_params_['classifier__min_samples_split'], \\\n",
    "                                                             min_samples_split = clf.best_params_['classifier__min_samples_split']))])\n",
    "classifier.fit(X_train, y_train)\n",
    "preds = classifier.predict(X_test)"
   ]
  },
  {
   "cell_type": "markdown",
   "metadata": {},
   "source": [
    "Indeed, there is an increase in accuracy score (55% to 60%). In terms of other statistics, there is a huge increase in recall_score (58% to 85%), meaning that the new model is much better at identifying home wins. However, an increase in some statistics result in an decrease in others. The new model has a much lower recall score of negative class (49% to 23%), which means the model is much worse at identifying home losses. There is also a slight decrease in precision score (63% to 62%). "
   ]
  },
  {
   "cell_type": "code",
   "execution_count": 106,
   "metadata": {},
   "outputs": [
    {
     "data": {
      "text/plain": [
       "(0.5991586538461539,\n",
       " 0.8493427704752275,\n",
       " 0.2325925925925926,\n",
       " 0.6185567010309279)"
      ]
     },
     "execution_count": 106,
     "metadata": {},
     "output_type": "execute_result"
    }
   ],
   "source": [
    "(metrics.accuracy_score(y_test, preds), # accuracy score\n",
    "metrics.recall_score(y_test, preds), # recall score\n",
    "metrics.recall_score(y_test, preds, pos_label = 0), # recall score of the negative class\n",
    "metrics.precision_score(y_test, preds)) # precision score"
   ]
  },
  {
   "cell_type": "code",
   "execution_count": null,
   "metadata": {},
   "outputs": [],
   "source": []
  },
  {
   "cell_type": "code",
   "execution_count": 109,
   "metadata": {},
   "outputs": [],
   "source": [
    "# For this part of our analysis, we want to find out whether the average winning temperature of each team\n",
    "# plays an role in the outcome of a game.\n",
    "# To do this, we will have to get the average winning temperature for each team. \n",
    "# First we iterate through each entry of the dataframe, get the game temperature\n",
    "# and save it as the value under the winning team of the game\n",
    "winning_temps = {}\n",
    "for index, row in df.iterrows():\n",
    "    # only counting the winning temperature\n",
    "    if row[\"home_w_l_t\"] == \"WIN\":\n",
    "        if row[\"team_home\"] in winning_temps:\n",
    "            winning_temps[row[\"team_home\"]].append(row[\"weather_temperature\"])\n",
    "        else:\n",
    "            winning_temps[row[\"team_home\"]] = [row[\"weather_temperature\"]]\n",
    "    elif row[\"home_w_l_t\"] == \"LOSS\":\n",
    "        if row[\"team_away\"] in winning_temps:\n",
    "            winning_temps[row[\"team_away\"]].append(row[\"weather_temperature\"])\n",
    "        else:\n",
    "            winning_temps[row[\"team_away\"]] = [row[\"weather_temperature\"]]\n",
    "\n",
    "# Now we loop through all teams in our winning_temps dictionary, and calculate the average winning \n",
    "# temperature of each team and save it in avg_winning_temp\n",
    "avg_winning_temp = {}\n",
    "for team in winning_temps.keys():\n",
    "    total = 0\n",
    "    for temp in winning_temps[team]:\n",
    "        total += temp\n",
    "    avg_winning_temp[team] = total / len(winning_temps[team])"
   ]
  },
  {
   "cell_type": "code",
   "execution_count": 110,
   "metadata": {},
   "outputs": [
    {
     "data": {
      "text/plain": [
       "{'Oakland Raiders': 56.56956521739131,\n",
       " 'Houston Oilers': 53.23529411764706,\n",
       " 'San Diego Chargers': 60.59726962457338,\n",
       " 'New York Jets': 55.089928057553955,\n",
       " 'Green Bay Packers': 45.914956011730204,\n",
       " 'Los Angeles Rams': 59.41125541125541,\n",
       " 'Kansas City Chiefs': 52.31683168316832,\n",
       " 'Detroit Lions': 51.16935483870968,\n",
       " 'St. Louis Cardinals': 52.07971014492754,\n",
       " 'Cleveland Browns': 50.10294117647059,\n",
       " 'Buffalo Bills': 50.810344827586206,\n",
       " 'Dallas Cowboys': 58.382716049382715,\n",
       " 'New England Patriots': 51.98776758409786,\n",
       " 'Baltimore Colts': 51.45454545454545,\n",
       " 'Philadelphia Eagles': 53.578947368421055,\n",
       " 'Pittsburgh Steelers': 49.101736972704714,\n",
       " 'Washington Redskins': 54.40112994350282,\n",
       " 'Denver Broncos': 51.367123287671234,\n",
       " 'Chicago Bears': 50.2952380952381,\n",
       " 'San Francisco 49ers': 56.6875,\n",
       " 'Minnesota Vikings': 48.49767441860465,\n",
       " 'New York Giants': 54.10248447204969,\n",
       " 'Boston Patriots': 46.5,\n",
       " 'Atlanta Falcons': 57.02840909090909,\n",
       " 'New Orleans Saints': 58.419117647058826,\n",
       " 'Cincinnati Bengals': 49.88172043010753,\n",
       " 'Miami Dolphins': 67.3994708994709,\n",
       " 'Seattle Seahawks': 54.16875,\n",
       " 'Tampa Bay Buccaneers': 67.71428571428571,\n",
       " 'Los Angeles Raiders': 59.87735849056604,\n",
       " 'Indianapolis Colts': 56.57446808510638,\n",
       " 'Phoenix Cardinals': 68.67857142857143,\n",
       " 'Arizona Cardinals': 63.89333333333333,\n",
       " 'St. Louis Rams': 56.71052631578947,\n",
       " 'Jacksonville Jaguars': 63.0703125,\n",
       " 'Carolina Panthers': 56.37719298245614,\n",
       " 'Baltimore Ravens': 53.73154362416108,\n",
       " 'Tennessee Oilers': 61.9375,\n",
       " 'Tennessee Titans': 56.6283185840708,\n",
       " 'Houston Texans': 60.96774193548387}"
      ]
     },
     "execution_count": 110,
     "metadata": {},
     "output_type": "execute_result"
    }
   ],
   "source": [
    "# check avg_winning_temp\n",
    "avg_winning_temp"
   ]
  },
  {
   "cell_type": "code",
   "execution_count": 111,
   "metadata": {},
   "outputs": [
    {
     "data": {
      "text/plain": [
       "40"
      ]
     },
     "execution_count": 111,
     "metadata": {},
     "output_type": "execute_result"
    }
   ],
   "source": [
    "# check the length of our dictionary\n",
    "len(avg_winning_temp)"
   ]
  },
  {
   "cell_type": "code",
   "execution_count": 112,
   "metadata": {},
   "outputs": [],
   "source": [
    "# this could be a problem since there are 40+ teams but only 40 teams have winning records\n",
    "# for now I will assume the teams not in the list to lose 100% of the time\n",
    "\n",
    "# function used to predict the outcome of a game based on each team's avg_winning_temp\n",
    "# here we pass in the home_team name, away_team name, and the game temperature\n",
    "# return True if game temperature is closer to home_team's avg_winning temperature\n",
    "# False if otherwise, note that I assume if two teams are equally close to the winning temperature\n",
    "# home_team should win due to home game advantage\n",
    "def prediction(home_team, away_team, game_temp):\n",
    "    home_diff = abs(avg_winning_temp[home_team] - game_temp)\n",
    "    away_diff = abs(avg_winning_temp[away_team] - game_temp)\n",
    "    if home_diff <= away_diff:\n",
    "        return \"WIN\"\n",
    "    else:\n",
    "        return \"LOSS\""
   ]
  },
  {
   "cell_type": "code",
   "execution_count": 113,
   "metadata": {},
   "outputs": [
    {
     "data": {
      "text/html": [
       "<div>\n",
       "<style scoped>\n",
       "    .dataframe tbody tr th:only-of-type {\n",
       "        vertical-align: middle;\n",
       "    }\n",
       "\n",
       "    .dataframe tbody tr th {\n",
       "        vertical-align: top;\n",
       "    }\n",
       "\n",
       "    .dataframe thead th {\n",
       "        text-align: right;\n",
       "    }\n",
       "</style>\n",
       "<table border=\"1\" class=\"dataframe\">\n",
       "  <thead>\n",
       "    <tr style=\"text-align: right;\">\n",
       "      <th></th>\n",
       "      <th>schedule_date</th>\n",
       "      <th>team_home</th>\n",
       "      <th>score_home</th>\n",
       "      <th>score_away</th>\n",
       "      <th>team_away</th>\n",
       "      <th>stadium</th>\n",
       "      <th>weather_temperature</th>\n",
       "      <th>weather_wind_mph</th>\n",
       "      <th>weather_humidity</th>\n",
       "      <th>home_w_l_t</th>\n",
       "    </tr>\n",
       "  </thead>\n",
       "  <tbody>\n",
       "    <tr>\n",
       "      <th>0</th>\n",
       "      <td>09/02/1966</td>\n",
       "      <td>Miami Dolphins</td>\n",
       "      <td>14</td>\n",
       "      <td>23</td>\n",
       "      <td>Oakland Raiders</td>\n",
       "      <td>Orange Bowl</td>\n",
       "      <td>83.0</td>\n",
       "      <td>6.0</td>\n",
       "      <td>71</td>\n",
       "      <td>LOSS</td>\n",
       "    </tr>\n",
       "    <tr>\n",
       "      <th>1</th>\n",
       "      <td>09/03/1966</td>\n",
       "      <td>Houston Oilers</td>\n",
       "      <td>45</td>\n",
       "      <td>7</td>\n",
       "      <td>Denver Broncos</td>\n",
       "      <td>Rice Stadium</td>\n",
       "      <td>81.0</td>\n",
       "      <td>7.0</td>\n",
       "      <td>70</td>\n",
       "      <td>WIN</td>\n",
       "    </tr>\n",
       "    <tr>\n",
       "      <th>2</th>\n",
       "      <td>09/04/1966</td>\n",
       "      <td>San Diego Chargers</td>\n",
       "      <td>27</td>\n",
       "      <td>7</td>\n",
       "      <td>Buffalo Bills</td>\n",
       "      <td>Balboa Stadium</td>\n",
       "      <td>70.0</td>\n",
       "      <td>7.0</td>\n",
       "      <td>82</td>\n",
       "      <td>WIN</td>\n",
       "    </tr>\n",
       "    <tr>\n",
       "      <th>3</th>\n",
       "      <td>09/09/1966</td>\n",
       "      <td>Miami Dolphins</td>\n",
       "      <td>14</td>\n",
       "      <td>19</td>\n",
       "      <td>New York Jets</td>\n",
       "      <td>Orange Bowl</td>\n",
       "      <td>82.0</td>\n",
       "      <td>11.0</td>\n",
       "      <td>78</td>\n",
       "      <td>LOSS</td>\n",
       "    </tr>\n",
       "    <tr>\n",
       "      <th>4</th>\n",
       "      <td>09/10/1966</td>\n",
       "      <td>Green Bay Packers</td>\n",
       "      <td>24</td>\n",
       "      <td>3</td>\n",
       "      <td>Baltimore Colts</td>\n",
       "      <td>Lambeau Field</td>\n",
       "      <td>64.0</td>\n",
       "      <td>8.0</td>\n",
       "      <td>62</td>\n",
       "      <td>WIN</td>\n",
       "    </tr>\n",
       "  </tbody>\n",
       "</table>\n",
       "</div>"
      ],
      "text/plain": [
       "  schedule_date           team_home  score_home  score_away        team_away  \\\n",
       "0    09/02/1966      Miami Dolphins          14          23  Oakland Raiders   \n",
       "1    09/03/1966      Houston Oilers          45           7   Denver Broncos   \n",
       "2    09/04/1966  San Diego Chargers          27           7    Buffalo Bills   \n",
       "3    09/09/1966      Miami Dolphins          14          19    New York Jets   \n",
       "4    09/10/1966   Green Bay Packers          24           3  Baltimore Colts   \n",
       "\n",
       "          stadium  weather_temperature  weather_wind_mph weather_humidity  \\\n",
       "0     Orange Bowl                 83.0               6.0               71   \n",
       "1    Rice Stadium                 81.0               7.0               70   \n",
       "2  Balboa Stadium                 70.0               7.0               82   \n",
       "3     Orange Bowl                 82.0              11.0               78   \n",
       "4   Lambeau Field                 64.0               8.0               62   \n",
       "\n",
       "  home_w_l_t  \n",
       "0       LOSS  \n",
       "1        WIN  \n",
       "2        WIN  \n",
       "3       LOSS  \n",
       "4        WIN  "
      ]
     },
     "execution_count": 113,
     "metadata": {},
     "output_type": "execute_result"
    }
   ],
   "source": [
    "# now let's do some tests\n",
    "df.head()"
   ]
  },
  {
   "cell_type": "code",
   "execution_count": 114,
   "metadata": {},
   "outputs": [
    {
     "name": "stdout",
     "output_type": "stream",
     "text": [
      "Home team wins\n"
     ]
    }
   ],
   "source": [
    "# pick game 0, Miami Dolphins vs Oakland Raiders, the actual result is loss\n",
    "home_team = \"Miami Dolphins\"\n",
    "away_team = \"Oakland Raiders\"\n",
    "game_temp = 83.0\n",
    "result = prediction(home_team, away_team, game_temp)\n",
    "if result == \"WIN\":\n",
    "    print(\"Home team wins\")\n",
    "else:\n",
    "    print(\"Home team loses\")"
   ]
  },
  {
   "cell_type": "code",
   "execution_count": 115,
   "metadata": {},
   "outputs": [
    {
     "name": "stdout",
     "output_type": "stream",
     "text": [
      "0.515855984740105\n"
     ]
    }
   ],
   "source": [
    "# well, the first test shows opposite result of the actual result\n",
    "# let's loop through all games in our data frame and check the accuracy of this method\n",
    "correct_count = 0\n",
    "for index, row in df.iterrows():\n",
    "    home_team = row[\"team_home\"]\n",
    "    away_team = row[\"team_away\"]\n",
    "    game_temp = row[\"weather_temperature\"]\n",
    "    if prediction(home_team, away_team, game_temp) == row[\"home_w_l_t\"]:\n",
    "        correct_count += 1\n",
    "accuracy = correct_count / len(df)\n",
    "print(accuracy)"
   ]
  },
  {
   "cell_type": "code",
   "execution_count": 116,
   "metadata": {},
   "outputs": [],
   "source": [
    "# This method only has a 51% accuracy\n",
    "# a random result generator would give around 50% accuracy, so this approach does not seem\n",
    "# to indicate average winning temperature and game result are related in anyway"
   ]
  },
  {
   "cell_type": "code",
   "execution_count": 117,
   "metadata": {},
   "outputs": [
    {
     "data": {
      "image/png": "[encoded data removed]",
      "text/plain": [
       "<Figure size 432x288 with 1 Axes>"
      ]
     },
     "metadata": {
      "needs_background": "light"
     },
     "output_type": "display_data"
    }
   ],
   "source": [
    "# plot the avg_winning_temp\n",
    "lists = sorted(avg_winning_temp.items()) # sorted by key, return a list of tuples\n",
    "\n",
    "x, y = zip(*lists) # unpack a list of pairs into two tuples\n",
    "\n",
    "plt.plot(x, y)\n",
    "plt.show()"
   ]
  },
  {
   "cell_type": "code",
   "execution_count": 118,
   "metadata": {},
   "outputs": [],
   "source": [
    "# For this part of our analysis, we will test if the overal win/loss record of each team\n",
    "# determines the game result. Note that after we cleaned the dataframe, we are left with\n",
    "# close to 9000 data entries, but we have 40+ teams so this implies majority of the teams\n",
    "# on our record did not play every other team in the league. This would generate a huge \n",
    "# hole in our prediction method. To counter this, we would calculate the the overall win\n",
    "# rate of each team and use this data for our prediction when we run into the case where \n",
    "# the two teams have no prior game record.\n",
    "\n",
    "# here I will use a nested dictionary\n",
    "# here I will also create a overall win count and total gams played count for each team\n",
    "import collections \n",
    "win_ratio = {}\n",
    "win_count = {}\n",
    "team_list = set()\n",
    "for index, row in df.iterrows():\n",
    "    team_list.add(row[\"team_home\"])\n",
    "    team_list.add(row[\"team_away\"])\n",
    "total_count = collections.Counter(team_list)\n",
    "for index, row in df.iterrows():\n",
    "    team_won = team_lost = \"\"\n",
    "    if row[\"home_w_l_t\"] == \"WIN\":\n",
    "        team_won = row[\"team_home\"]\n",
    "        team_lost = row[\"team_away\"]\n",
    "    elif row[\"home_w_l_t\"] == \"LOSS\":\n",
    "        team_won = row[\"team_away\"]\n",
    "        team_lost = row[\"team_home\"]\n",
    "\n",
    "    if team_won in win_ratio:\n",
    "        if team_lost in win_ratio[team_won]:\n",
    "            win_ratio[team_won][team_lost] += 1\n",
    "        else:\n",
    "            win_ratio[team_won][team_lost] = 0\n",
    "    else:\n",
    "        win_ratio[team_won] = {team_lost: 0}\n",
    "    if team_won in win_count:\n",
    "        win_count[team_won] += 1\n",
    "    else:\n",
    "        win_count[team_won] = 1\n",
    "    total_count[team_won] += 1\n",
    "    total_count[team_lost] += 1"
   ]
  },
  {
   "cell_type": "code",
   "execution_count": 119,
   "metadata": {},
   "outputs": [
    {
     "name": "stdout",
     "output_type": "stream",
     "text": [
      "Oakland Raiders: {'Miami Dolphins': 9, 'Boston Patriots': 0, 'Denver Broncos': 24, 'Washington Redskins': 4, 'Pittsburgh Steelers': 12, 'Cleveland Browns': 8, 'San Diego Chargers': 29, 'New York Jets': 9, 'Kansas City Chiefs': 27, 'Philadelphia Eagles': 4, 'Cincinnati Bengals': 10, 'Houston Oilers': 2, 'Green Bay Packers': 2, 'Buffalo Bills': 5, 'Los Angeles Rams': 1, 'Chicago Bears': 4, 'St. Louis Cardinals': 0, 'Baltimore Colts': 2, 'New York Giants': 4, 'San Francisco 49ers': 2, 'Detroit Lions': 2, 'New England Patriots': 3, 'Dallas Cowboys': 3, 'New Orleans Saints': 0, 'Atlanta Falcons': 2, 'Tampa Bay Buccaneers': 4, 'Minnesota Vikings': 4, 'Seattle Seahawks': 9, 'Indianapolis Colts': 0, 'Jacksonville Jaguars': 2, 'St. Louis Rams': 1, 'Arizona Cardinals': 2, 'Carolina Panthers': 1, 'Tennessee Titans': 2, 'Baltimore Ravens': 0, 'Houston Texans': 1}\n",
      "Houston Oilers: {'Denver Broncos': 1, 'Oakland Raiders': 1, 'Pittsburgh Steelers': 6, 'Cincinnati Bengals': 9, 'Buffalo Bills': 3, 'Baltimore Colts': 1, 'New York Jets': 2, 'New England Patriots': 3, 'Cleveland Browns': 9, 'Kansas City Chiefs': 3, 'San Francisco 49ers': 1, 'Green Bay Packers': 2, 'Miami Dolphins': 2, 'Washington Redskins': 0, 'Dallas Cowboys': 1, 'Chicago Bears': 1, 'Los Angeles Rams': 0, 'St. Louis Cardinals': 0, 'San Diego Chargers': 1, 'Jacksonville Jaguars': 1, 'Baltimore Ravens': 0}\n",
      "San Diego Chargers: {'Buffalo Bills': 11, 'New England Patriots': 3, 'Oakland Raiders': 28, 'Miami Dolphins': 8, 'Chicago Bears': 4, 'Cleveland Browns': 13, 'Denver Broncos': 33, 'Boston Patriots': 0, 'Kansas City Chiefs': 44, 'New York Jets': 7, 'St. Louis Cardinals': 2, 'Minnesota Vikings': 3, 'Baltimore Colts': 2, 'Houston Oilers': 4, 'New Orleans Saints': 2, 'Cincinnati Bengals': 14, 'Tampa Bay Buccaneers': 6, 'San Francisco 49ers': 5, 'Seattle Seahawks': 14, 'Los Angeles Rams': 2, 'Pittsburgh Steelers': 6, 'New York Giants': 5, 'Philadelphia Eagles': 6, 'Detroit Lions': 3, 'Dallas Cowboys': 2, 'Green Bay Packers': 0, 'Los Angeles Raiders': 7, 'Atlanta Falcons': 0, 'Phoenix Cardinals': 1, 'Indianapolis Colts': 3, 'Arizona Cardinals': 3, 'Baltimore Ravens': 3, 'Tennessee Oilers': 0, 'Washington Redskins': 2, 'Houston Texans': 1, 'Tennessee Titans': 5, 'Jacksonville Jaguars': 2, 'Carolina Panthers': 0, 'St. Louis Rams': 0}\n"
     ]
    }
   ],
   "source": [
    "# here we display our win_ratio dictionary\n",
    "for x in list(win_ratio)[0:3]:\n",
    "    print (x + \": \" + str(win_ratio[x]))"
   ]
  },
  {
   "cell_type": "code",
   "execution_count": 120,
   "metadata": {},
   "outputs": [],
   "source": [
    "# now let's make a function that takes two teams, and predict the result base on win_ratio \n",
    "# if two teams never played with one another, we will use the overall win rate of each team \n",
    "# and assume the team with higher overall win rate would win the game\n",
    "def predictWinRatio(team1, team2):\n",
    "    if team1 in win_ratio and team2 in win_ratio:\n",
    "            if team2 in win_ratio[team1]:\n",
    "                # here we will have to take care of the equal case later, I just include it here\n",
    "                if win_ratio[team1][team2] >= win_ratio[team2][team1]:\n",
    "                    return team1\n",
    "                else:\n",
    "                    return team2\n",
    "            else:\n",
    "                return team1 if win_count[team1] / total_count[team1] >= win_count[team2] / total_count[team2] else team2\n",
    "    else:\n",
    "        if team1 not in win_ratio:\n",
    "            print(\"team1 not in win_ratio\")\n",
    "        if team2 not in win_ratio:\n",
    "            print(\"team2 not in win_ratio\")"
   ]
  },
  {
   "cell_type": "code",
   "execution_count": 121,
   "metadata": {},
   "outputs": [
    {
     "name": "stdout",
     "output_type": "stream",
     "text": [
      "0.5927515498330949\n"
     ]
    }
   ],
   "source": [
    "correct_count = 0\n",
    "for index, row in df.iterrows():\n",
    "    team_won = team_lost = \"\"\n",
    "    if row[\"home_w_l_t\"] == \"WIN\":\n",
    "        team_won = row[\"team_home\"]\n",
    "        tem_lost = row[\"team_away\"]\n",
    "    elif row[\"home_w_l_t\"] == \"LOSS\":\n",
    "        team_won = row[\"team_away\"]\n",
    "        tem_lost = row[\"team_home\"]\n",
    "    if predictWinRatio(team_won, team_lost) == team_won:\n",
    "        correct_count += 1\n",
    "accuracy = correct_count / len(df)\n",
    "print(accuracy)"
   ]
  },
  {
   "cell_type": "markdown",
   "metadata": {},
   "source": [
    "We want to see if there are any correlation with the outcome of the game based on the difference of temperature from their average home temperature."
   ]
  },
  {
   "cell_type": "code",
   "execution_count": 107,
   "metadata": {},
   "outputs": [
    {
     "data": {
      "text/html": [
       "<div>\n",
       "<style scoped>\n",
       "    .dataframe tbody tr th:only-of-type {\n",
       "        vertical-align: middle;\n",
       "    }\n",
       "\n",
       "    .dataframe tbody tr th {\n",
       "        vertical-align: top;\n",
       "    }\n",
       "\n",
       "    .dataframe thead th {\n",
       "        text-align: right;\n",
       "    }\n",
       "</style>\n",
       "<table border=\"1\" class=\"dataframe\">\n",
       "  <thead>\n",
       "    <tr style=\"text-align: right;\">\n",
       "      <th></th>\n",
       "      <th>schedule_date</th>\n",
       "      <th>team_home</th>\n",
       "      <th>score_home</th>\n",
       "      <th>score_away</th>\n",
       "      <th>team_away</th>\n",
       "      <th>stadium</th>\n",
       "      <th>weather_temperature</th>\n",
       "      <th>weather_wind_mph</th>\n",
       "      <th>weather_humidity</th>\n",
       "      <th>home_w_l_t</th>\n",
       "      <th>avg_temperature</th>\n",
       "      <th>std_temperature</th>\n",
       "      <th>z_score_temperature</th>\n",
       "      <th>diff_temperature</th>\n",
       "    </tr>\n",
       "  </thead>\n",
       "  <tbody>\n",
       "    <tr>\n",
       "      <th>0</th>\n",
       "      <td>09/02/1966</td>\n",
       "      <td>Miami Dolphins</td>\n",
       "      <td>14</td>\n",
       "      <td>23</td>\n",
       "      <td>Oakland Raiders</td>\n",
       "      <td>Orange Bowl</td>\n",
       "      <td>83.0</td>\n",
       "      <td>6.0</td>\n",
       "      <td>71</td>\n",
       "      <td>LOSS</td>\n",
       "      <td>76.254386</td>\n",
       "      <td>6.995335</td>\n",
       "      <td>0.964302</td>\n",
       "      <td>-6.745614</td>\n",
       "    </tr>\n",
       "    <tr>\n",
       "      <th>1</th>\n",
       "      <td>09/03/1966</td>\n",
       "      <td>Houston Oilers</td>\n",
       "      <td>45</td>\n",
       "      <td>7</td>\n",
       "      <td>Denver Broncos</td>\n",
       "      <td>Rice Stadium</td>\n",
       "      <td>81.0</td>\n",
       "      <td>7.0</td>\n",
       "      <td>70</td>\n",
       "      <td>WIN</td>\n",
       "      <td>79.000000</td>\n",
       "      <td>2.828427</td>\n",
       "      <td>0.707107</td>\n",
       "      <td>-2.000000</td>\n",
       "    </tr>\n",
       "    <tr>\n",
       "      <th>2</th>\n",
       "      <td>09/04/1966</td>\n",
       "      <td>San Diego Chargers</td>\n",
       "      <td>27</td>\n",
       "      <td>7</td>\n",
       "      <td>Buffalo Bills</td>\n",
       "      <td>Balboa Stadium</td>\n",
       "      <td>70.0</td>\n",
       "      <td>7.0</td>\n",
       "      <td>82</td>\n",
       "      <td>WIN</td>\n",
       "      <td>63.828877</td>\n",
       "      <td>7.095555</td>\n",
       "      <td>0.869717</td>\n",
       "      <td>-6.171123</td>\n",
       "    </tr>\n",
       "    <tr>\n",
       "      <th>3</th>\n",
       "      <td>09/09/1966</td>\n",
       "      <td>Miami Dolphins</td>\n",
       "      <td>14</td>\n",
       "      <td>19</td>\n",
       "      <td>New York Jets</td>\n",
       "      <td>Orange Bowl</td>\n",
       "      <td>82.0</td>\n",
       "      <td>11.0</td>\n",
       "      <td>78</td>\n",
       "      <td>LOSS</td>\n",
       "      <td>76.254386</td>\n",
       "      <td>6.995335</td>\n",
       "      <td>0.821349</td>\n",
       "      <td>-5.745614</td>\n",
       "    </tr>\n",
       "    <tr>\n",
       "      <th>4</th>\n",
       "      <td>09/10/1966</td>\n",
       "      <td>Green Bay Packers</td>\n",
       "      <td>24</td>\n",
       "      <td>3</td>\n",
       "      <td>Baltimore Colts</td>\n",
       "      <td>Lambeau Field</td>\n",
       "      <td>64.0</td>\n",
       "      <td>8.0</td>\n",
       "      <td>62</td>\n",
       "      <td>WIN</td>\n",
       "      <td>42.695652</td>\n",
       "      <td>16.134627</td>\n",
       "      <td>1.320412</td>\n",
       "      <td>-21.304348</td>\n",
       "    </tr>\n",
       "  </tbody>\n",
       "</table>\n",
       "</div>"
      ],
      "text/plain": [
       "  schedule_date           team_home  score_home  score_away        team_away  \\\n",
       "0    09/02/1966      Miami Dolphins          14          23  Oakland Raiders   \n",
       "1    09/03/1966      Houston Oilers          45           7   Denver Broncos   \n",
       "2    09/04/1966  San Diego Chargers          27           7    Buffalo Bills   \n",
       "3    09/09/1966      Miami Dolphins          14          19    New York Jets   \n",
       "4    09/10/1966   Green Bay Packers          24           3  Baltimore Colts   \n",
       "\n",
       "          stadium  weather_temperature  weather_wind_mph weather_humidity  \\\n",
       "0     Orange Bowl                 83.0               6.0               71   \n",
       "1    Rice Stadium                 81.0               7.0               70   \n",
       "2  Balboa Stadium                 70.0               7.0               82   \n",
       "3     Orange Bowl                 82.0              11.0               78   \n",
       "4   Lambeau Field                 64.0               8.0               62   \n",
       "\n",
       "  home_w_l_t  avg_temperature  std_temperature  z_score_temperature  \\\n",
       "0       LOSS        76.254386         6.995335             0.964302   \n",
       "1        WIN        79.000000         2.828427             0.707107   \n",
       "2        WIN        63.828877         7.095555             0.869717   \n",
       "3       LOSS        76.254386         6.995335             0.821349   \n",
       "4        WIN        42.695652        16.134627             1.320412   \n",
       "\n",
       "   diff_temperature  \n",
       "0         -6.745614  \n",
       "1         -2.000000  \n",
       "2         -6.171123  \n",
       "3         -5.745614  \n",
       "4        -21.304348  "
      ]
     },
     "execution_count": 107,
     "metadata": {},
     "output_type": "execute_result"
    }
   ],
   "source": [
    "df1['diff_temperature'] = df1['avg_temperature'] - df1['weather_temperature']\n",
    "df1.head()"
   ]
  },
  {
   "cell_type": "code",
   "execution_count": 108,
   "metadata": {},
   "outputs": [
    {
     "data": {
      "text/plain": [
       "Text(0, 0.5, 'Density')"
      ]
     },
     "execution_count": 108,
     "metadata": {},
     "output_type": "execute_result"
    },
    {
     "data": {
      "image/png": "[encoded data removed]",
      "text/plain": [
       "<Figure size 432x288 with 1 Axes>"
      ]
     },
     "metadata": {
      "needs_background": "light"
     },
     "output_type": "display_data"
    }
   ],
   "source": [
    "loss_temp = df1.loc[df1['home_w_l_t'] == 'LOSS']\n",
    "win_temp = df1.loc[df1['home_w_l_t'] == 'WIN']\n",
    "#tie_temp = df1.loc[df1['home_w_l_t'] == 'TIE'] #TODO possibly take this out\n",
    "\n",
    "\n",
    "\n",
    "sns.distplot(loss_temp['diff_temperature'], hist = False, kde = True, kde_kws = {'linewidth': 3}, label = 'Win')\n",
    "sns.distplot(win_temp['diff_temperature'], hist = False, kde = True, kde_kws = {'linewidth': 3}, label = 'Loss')\n",
    "#sns.distplot(tie_temp['diff_temperature'], hist = False, kde = True, kde_kws = {'linewidth': 3}, label = 'Tie')\n",
    "\n",
    "plt.legend(prop={'size': 16}, title = 'Game Outcome')\n",
    "plt.title('Density Plot Based On Game Outcome')\n",
    "plt.xlabel('Temperature Differences')\n",
    "plt.ylabel('Density')"
   ]
  },
  {
   "cell_type": "markdown",
   "metadata": {},
   "source": [
    "# Ethics and Privacy"
   ]
  },
  {
   "cell_type": "markdown",
   "metadata": {},
   "source": [
    "We do not have any privacy issues regarding this data as it was built from publicly available data published by the NFL, as well as publicly available weather data from NOAA. The ramifications of the results of this study could span to the population who places bets on the outcomes of NFL games, and this study could be used to predict unlikely outcomes. It is also important to consider the privacy and reputation of the sports teams analyzed, as negative attention to a team’s performance or brand may negatively affect their public opinion."
   ]
  },
  {
   "cell_type": "markdown",
   "metadata": {},
   "source": [
    "# Conclusion & Discussion"
   ]
  },
  {
   "cell_type": "markdown",
   "metadata": {},
   "source": [
    "*Fill in your discussion information here*"
   ]
  }
 ],
 "metadata": {
  "kernelspec": {
   "display_name": "Python 3",
   "language": "python",
   "name": "python3"
  },
  "language_info": {
   "codemirror_mode": {
    "name": "ipython",
    "version": 3
   },
   "file_extension": ".py",
   "mimetype": "text/x-python",
   "name": "python",
   "nbconvert_exporter": "python",
   "pygments_lexer": "ipython3",
   "version": "3.7.1"
  }
 },
 "nbformat": 4,
 "nbformat_minor": 2
}
