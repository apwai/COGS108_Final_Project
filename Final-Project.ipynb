{
 "cells": [
  {
   "cell_type": "markdown",
   "metadata": {},
   "source": [
    "# COGS 108 - Final Project "
   ]
  },
  {
   "cell_type": "markdown",
   "metadata": {},
   "source": [
    "# Overview"
   ]
  },
  {
   "cell_type": "markdown",
   "metadata": {},
   "source": [
    "The NFL season usually starts in September and ends in February. Across the 17-week regular season and the playoffs afterwards, weather conditions at a team’s home stadium could change substantially. Furthermore, teams not only play at their home stadiums, but also have to travel to other regions in the country, possibly with very different climate, to play away games. Therefore, it is expected that teams will play under different weather conditions throughout the season. Knowing the relationship between team performance and weather conditions will be useful to NFL teams so that they may adopt different strategies under different weather conditions and hold special training sessions before playing at their least favorite weather conditions.  \n"
   ]
  },
  {
   "cell_type": "markdown",
   "metadata": {},
   "source": [
    "# Names\n",
    "\n",
    "- Annie Wai\n",
    "- Chen Xu\n",
    "- Christopher Yeh\n",
    "- Ronak Sheth\n",
    "- Shun Fujinami\n",
    "- Yupei Zhou"
   ]
  },
  {
   "cell_type": "markdown",
   "metadata": {},
   "source": [
    "# Group Members IDs\n",
    "\n",
    "- A12944645\n",
    "- A13636618\n",
    "- A15720503\n",
    "- A92086612\n",
    "- A14255552\n",
    "- A13410536"
   ]
  },
  {
   "cell_type": "markdown",
   "metadata": {},
   "source": [
    "# Research Question"
   ]
  },
  {
   "cell_type": "markdown",
   "metadata": {},
   "source": [
    "Our question is how does weather, with an emphasis on temperature, wind speed, and humidity affect the outcome of a National Football League (NFL) game. We will be analyzing the weather data during each NFL game, and finding a correlation between how well each team performs within given weather parameters."
   ]
  },
  {
   "cell_type": "markdown",
   "metadata": {},
   "source": [
    "## Background and Prior Work\n"
   ]
  },
  {
   "cell_type": "markdown",
   "metadata": {},
   "source": [
    "There has been previous studies on how weather affects NFL games, even as far as betting lines being affected by the weather. According to Sports Betting Stats line-makers (bookies that determine the odds and payouts for betting on games) factor in temperature, precipitation, and wind speed when creating the betting odds. There has also been studies published by individuals based on data science which include “dome teams” (teams with an indoor stadium at home) playing in extreme weather, or the drop off of production by a quarterback in poor weather. Advanced Football Analytics analyzed data for when teams played in away stadiums and compared their home climate to the away climate. Most notably was “dome teams” not winning a single away game when the temperature was 20 degrees or lower. In another article Towards Data Science studied each quarterback’s statistics when playing in extreme weather. This article demonstrated a clear drop off in production of each quarterback when comparing their play in “great weather” versus “bad weather” Each of these previous studies narrowed down the data to specific scenarios, or a specific player’s position when analyzing the data. Our study will broaden the scope of how weather affects NFL games to every team, and every game in our dataset. This study will demonstrate how big a factor weather plays in determining the outcome of an NFL game in the grand scheme of all factors that play a part in winning an NFL game. \n",
    "\n",
    "References (include links): \n",
    "- 1) Sports Bettings Stats (https://www.sportsbettingstats.com/nfl/football-weather)\n",
    "- 2) Advanced Football Analytics (http://archive.advancedfootballanalytics.com/2012/01/how-does-temperature-affect-road-teams.html)\n",
    "- 3) Towards Data Science (https://towardsdatascience.com/football-weather-diving-into-the-effects-of-weather-on-nfl-qb-performance-f0edb420623d)"
   ]
  },
  {
   "cell_type": "markdown",
   "metadata": {},
   "source": [
    "# Hypothesis\n"
   ]
  },
  {
   "cell_type": "markdown",
   "metadata": {},
   "source": [
    "Our hypothesis to the question is that each team will have a preferred weather range in which they perform their best, and that weather range will be most similar to the average weather at their home stadium. "
   ]
  },
  {
   "cell_type": "markdown",
   "metadata": {},
   "source": [
    "# Dataset(s)\n"
   ]
  },
  {
   "cell_type": "markdown",
   "metadata": {},
   "source": [
    "- Dataset Name: NFL scores and betting data\n",
    "- Link to the dataset: https://www.kaggle.com/tobycrabtree/nfl-scores-and-betting-data#spreadspoke_scores.csv\n",
    "- Number of observations: 12400\n",
    "\n",
    "This dataset includes 12,400 games since the 1966 season with 17 variables including: \n",
    "schedule date, schedule season, schedule week, schedule playoff, team home, score home, score away, team away, team favorite id, spread favorite, over under line, stadium, stadium neutral, weather temperature, weather wind mph, weather humidity, and extra weather detail.\n"
   ]
  },
  {
   "cell_type": "markdown",
   "metadata": {},
   "source": [
    "# Setup\n"
   ]
  },
  {
   "cell_type": "code",
   "execution_count": 14,
   "metadata": {},
   "outputs": [],
   "source": [
    "from scipy.stats import ttest_ind, chisquare, normaltest, ttest_1samp\n",
    "\n",
    "import seaborn as sns\n",
    "import pandas as pd\n",
    "import numpy as np\n",
    "import matplotlib.pyplot as plt"
   ]
  },
  {
   "cell_type": "markdown",
   "metadata": {},
   "source": [
    "# Data Cleaning\n"
   ]
  },
  {
   "cell_type": "markdown",
   "metadata": {},
   "source": [
    "We created a dataframe from the dataset csv file. We will drop the following unused columns: schedule season, schedule week, schedule playoff, stadium neutral, team favorite id, spread favorite, and over under line. We will also drop any games played indoors."
   ]
  },
  {
   "cell_type": "code",
   "execution_count": 16,
   "metadata": {},
   "outputs": [],
   "source": [
    "df = pd.read_csv(\"./nfl-scores-and-betting-data/spreadspoke_scores.csv\")\n",
    "df = df.drop(columns=[\"schedule_season\", \"schedule_week\", \"schedule_playoff\", \"stadium_neutral\", \n",
    "                      \"team_favorite_id\", \"spread_favorite\", \"over_under_line\"],\n",
    "             axis=1)\n",
    "df = df[df.weather_detail != \"DOME\"]"
   ]
  },
  {
   "cell_type": "markdown",
   "metadata": {},
   "source": [
    "Based on the score of the home and away team, we want to add a column to indicate the outcome of the game."
   ]
  },
  {
   "cell_type": "code",
   "execution_count": 17,
   "metadata": {},
   "outputs": [],
   "source": [
    "for index, row in df.iterrows():\n",
    "    score_home = df.loc[index]['score_home']\n",
    "    score_away = df.loc[index]['score_away']\n",
    "    if score_home > score_away:\n",
    "        df.at[index, 'home_w_l_t'] = 'WIN'\n",
    "    elif score_away > score_home:\n",
    "         df.at[index, 'home_w_l_t'] = 'LOSS'\n",
    "    else:\n",
    "        df.at[index, 'home_w_l_t'] = 'TIE'"
   ]
  },
  {
   "cell_type": "markdown",
   "metadata": {},
   "source": [
    "It would appear that most entries are missing weather humidity and weather detail, so we are dropping rows without weather humidity and the whole column of weather detail."
   ]
  },
  {
   "cell_type": "code",
   "execution_count": 18,
   "metadata": {},
   "outputs": [
    {
     "data": {
      "text/html": [
       "<div>\n",
       "<style scoped>\n",
       "    .dataframe tbody tr th:only-of-type {\n",
       "        vertical-align: middle;\n",
       "    }\n",
       "\n",
       "    .dataframe tbody tr th {\n",
       "        vertical-align: top;\n",
       "    }\n",
       "\n",
       "    .dataframe thead th {\n",
       "        text-align: right;\n",
       "    }\n",
       "</style>\n",
       "<table border=\"1\" class=\"dataframe\">\n",
       "  <thead>\n",
       "    <tr style=\"text-align: right;\">\n",
       "      <th></th>\n",
       "      <th>schedule_date</th>\n",
       "      <th>team_home</th>\n",
       "      <th>score_home</th>\n",
       "      <th>score_away</th>\n",
       "      <th>team_away</th>\n",
       "      <th>stadium</th>\n",
       "      <th>weather_temperature</th>\n",
       "      <th>weather_wind_mph</th>\n",
       "      <th>weather_humidity</th>\n",
       "      <th>home_w_l_t</th>\n",
       "    </tr>\n",
       "  </thead>\n",
       "  <tbody>\n",
       "    <tr>\n",
       "      <th>0</th>\n",
       "      <td>09/02/1966</td>\n",
       "      <td>Miami Dolphins</td>\n",
       "      <td>14</td>\n",
       "      <td>23</td>\n",
       "      <td>Oakland Raiders</td>\n",
       "      <td>Orange Bowl</td>\n",
       "      <td>83.0</td>\n",
       "      <td>6.0</td>\n",
       "      <td>71</td>\n",
       "      <td>LOSS</td>\n",
       "    </tr>\n",
       "    <tr>\n",
       "      <th>1</th>\n",
       "      <td>09/03/1966</td>\n",
       "      <td>Houston Oilers</td>\n",
       "      <td>45</td>\n",
       "      <td>7</td>\n",
       "      <td>Denver Broncos</td>\n",
       "      <td>Rice Stadium</td>\n",
       "      <td>81.0</td>\n",
       "      <td>7.0</td>\n",
       "      <td>70</td>\n",
       "      <td>WIN</td>\n",
       "    </tr>\n",
       "    <tr>\n",
       "      <th>2</th>\n",
       "      <td>09/04/1966</td>\n",
       "      <td>San Diego Chargers</td>\n",
       "      <td>27</td>\n",
       "      <td>7</td>\n",
       "      <td>Buffalo Bills</td>\n",
       "      <td>Balboa Stadium</td>\n",
       "      <td>70.0</td>\n",
       "      <td>7.0</td>\n",
       "      <td>82</td>\n",
       "      <td>WIN</td>\n",
       "    </tr>\n",
       "    <tr>\n",
       "      <th>3</th>\n",
       "      <td>09/09/1966</td>\n",
       "      <td>Miami Dolphins</td>\n",
       "      <td>14</td>\n",
       "      <td>19</td>\n",
       "      <td>New York Jets</td>\n",
       "      <td>Orange Bowl</td>\n",
       "      <td>82.0</td>\n",
       "      <td>11.0</td>\n",
       "      <td>78</td>\n",
       "      <td>LOSS</td>\n",
       "    </tr>\n",
       "    <tr>\n",
       "      <th>4</th>\n",
       "      <td>09/10/1966</td>\n",
       "      <td>Green Bay Packers</td>\n",
       "      <td>24</td>\n",
       "      <td>3</td>\n",
       "      <td>Baltimore Colts</td>\n",
       "      <td>Lambeau Field</td>\n",
       "      <td>64.0</td>\n",
       "      <td>8.0</td>\n",
       "      <td>62</td>\n",
       "      <td>WIN</td>\n",
       "    </tr>\n",
       "  </tbody>\n",
       "</table>\n",
       "</div>"
      ],
      "text/plain": [
       "  schedule_date           team_home  score_home  score_away        team_away  \\\n",
       "0    09/02/1966      Miami Dolphins          14          23  Oakland Raiders   \n",
       "1    09/03/1966      Houston Oilers          45           7   Denver Broncos   \n",
       "2    09/04/1966  San Diego Chargers          27           7    Buffalo Bills   \n",
       "3    09/09/1966      Miami Dolphins          14          19    New York Jets   \n",
       "4    09/10/1966   Green Bay Packers          24           3  Baltimore Colts   \n",
       "\n",
       "          stadium  weather_temperature  weather_wind_mph weather_humidity  \\\n",
       "0     Orange Bowl                 83.0               6.0               71   \n",
       "1    Rice Stadium                 81.0               7.0               70   \n",
       "2  Balboa Stadium                 70.0               7.0               82   \n",
       "3     Orange Bowl                 82.0              11.0               78   \n",
       "4   Lambeau Field                 64.0               8.0               62   \n",
       "\n",
       "  home_w_l_t  \n",
       "0       LOSS  \n",
       "1        WIN  \n",
       "2        WIN  \n",
       "3       LOSS  \n",
       "4        WIN  "
      ]
     },
     "execution_count": 18,
     "metadata": {},
     "output_type": "execute_result"
    }
   ],
   "source": [
    "df.dropna(subset=['weather_humidity'], inplace = True)\n",
    "df = df.drop(columns = ['weather_detail'])\n",
    "df.head()"
   ]
  },
  {
   "cell_type": "markdown",
   "metadata": {},
   "source": [
    "Here we'll gather the temperature and wind speed data separately."
   ]
  },
  {
   "cell_type": "code",
   "execution_count": 22,
   "metadata": {},
   "outputs": [],
   "source": [
    "temp_win = []\n",
    "temp_tie = []\n",
    "temp_loss = []\n",
    "wind_win = []\n",
    "wind_tie = []\n",
    "wind_loss = []\n",
    "\n",
    "for index, row in df.iterrows():\n",
    "    if row[\"home_w_l_t\"] == \"WIN\":\n",
    "        temp_win.append(row[\"weather_temperature\"])\n",
    "        wind_win.append(row[\"weather_wind_mph\"])\n",
    "    elif row[\"home_w_l_t\"] == \"TIE\":\n",
    "        temp_tie.append(row[\"weather_temperature\"])\n",
    "        wind_tie.append(row[\"weather_wind_mph\"])\n",
    "    else:\n",
    "        temp_loss.append(row[\"weather_temperature\"])\n",
    "        wind_loss.append(row[\"weather_wind_mph\"])"
   ]
  },
  {
   "cell_type": "markdown",
   "metadata": {},
   "source": [
    "# Data Analysis & Results"
   ]
  },
  {
   "cell_type": "code",
   "execution_count": 7,
   "metadata": {},
   "outputs": [
    {
     "data": {
      "text/plain": [
       "(array([  13.,   35.,  109.,  336.,  699.,  967., 1143.,  973.,  503.,\n",
       "          84.]),\n",
       " array([-5. ,  4.7, 14.4, 24.1, 33.8, 43.5, 53.2, 62.9, 72.6, 82.3, 92. ]),\n",
       " <a list of 10 Patch objects>)"
      ]
     },
     "execution_count": 7,
     "metadata": {},
     "output_type": "execute_result"
    },
    {
     "data": {
      "image/png": "[encoded data removed]",
      "text/plain": [
       "<Figure size 432x288 with 1 Axes>"
      ]
     },
     "metadata": {
      "needs_background": "light"
     },
     "output_type": "display_data"
    }
   ],
   "source": [
    "# here I will graph the histogram for the temperatures\n",
    "# temp_win histogram\n",
    "plt.hist(df[df[\"home_w_l_t\"] == \"WIN\"][\"weather_temperature\"])"
   ]
  },
  {
   "cell_type": "code",
   "execution_count": 8,
   "metadata": {},
   "outputs": [
    {
     "data": {
      "text/plain": [
       "(array([ 2.,  4., 10.,  7.,  7., 17., 12.,  6.,  3.,  2.]),\n",
       " array([20. , 26.2, 32.4, 38.6, 44.8, 51. , 57.2, 63.4, 69.6, 75.8, 82. ]),\n",
       " <a list of 10 Patch objects>)"
      ]
     },
     "execution_count": 8,
     "metadata": {},
     "output_type": "execute_result"
    },
    {
     "data": {
      "image/png": "[encoded data removed]",
      "text/plain": [
       "<Figure size 432x288 with 1 Axes>"
      ]
     },
     "metadata": {
      "needs_background": "light"
     },
     "output_type": "display_data"
    }
   ],
   "source": [
    "# temp_tie histogram\n",
    "plt.hist(df[df[\"home_w_l_t\"] == \"TIE\"][\"weather_temperature\"])"
   ]
  },
  {
   "cell_type": "code",
   "execution_count": 9,
   "metadata": {},
   "outputs": [
    {
     "data": {
      "text/plain": [
       "(array([  7.,  24., 101., 287., 559., 758., 817., 581., 288.,  34.]),\n",
       " array([-2. ,  7.7, 17.4, 27.1, 36.8, 46.5, 56.2, 65.9, 75.6, 85.3, 95. ]),\n",
       " <a list of 10 Patch objects>)"
      ]
     },
     "execution_count": 9,
     "metadata": {},
     "output_type": "execute_result"
    },
    {
     "data": {
      "image/png": "[encoded data removed]",
      "text/plain": [
       "<Figure size 432x288 with 1 Axes>"
      ]
     },
     "metadata": {
      "needs_background": "light"
     },
     "output_type": "display_data"
    }
   ],
   "source": [
    "# temp_loss histogram\n",
    "plt.hist(df[df[\"home_w_l_t\"] == \"LOSS\"][\"weather_temperature\"])"
   ]
  },
  {
   "cell_type": "code",
   "execution_count": 10,
   "metadata": {},
   "outputs": [
    {
     "data": {
      "text/plain": [
       "(array([ 143.,  722., 1438., 1283.,  681.,  371.,  144.,   56.,   22.,\n",
       "           2.]),\n",
       " array([ 0. ,  3.1,  6.2,  9.3, 12.4, 15.5, 18.6, 21.7, 24.8, 27.9, 31. ]),\n",
       " <a list of 10 Patch objects>)"
      ]
     },
     "execution_count": 10,
     "metadata": {},
     "output_type": "execute_result"
    },
    {
     "data": {
      "image/png": "[encoded data removed]",
      "text/plain": [
       "<Figure size 432x288 with 1 Axes>"
      ]
     },
     "metadata": {
      "needs_background": "light"
     },
     "output_type": "display_data"
    }
   ],
   "source": [
    "# histograms for wind_speeds\n",
    "# wind_win histogram\n",
    "plt.hist(df[df[\"home_w_l_t\"] == \"WIN\"][\"weather_wind_mph\"])"
   ]
  },
  {
   "cell_type": "code",
   "execution_count": 11,
   "metadata": {},
   "outputs": [
    {
     "data": {
      "text/plain": [
       "(array([ 9.,  8., 19., 15., 10.,  4.,  3.,  0.,  1.,  1.]),\n",
       " array([ 4. ,  6.1,  8.2, 10.3, 12.4, 14.5, 16.6, 18.7, 20.8, 22.9, 25. ]),\n",
       " <a list of 10 Patch objects>)"
      ]
     },
     "execution_count": 11,
     "metadata": {},
     "output_type": "execute_result"
    },
    {
     "data": {
      "image/png": "[encoded data removed]",
      "text/plain": [
       "<Figure size 432x288 with 1 Axes>"
      ]
     },
     "metadata": {
      "needs_background": "light"
     },
     "output_type": "display_data"
    }
   ],
   "source": [
    "# wind_tie histogram\n",
    "plt.hist(df[df[\"home_w_l_t\"] == \"TIE\"][\"weather_wind_mph\"])"
   ]
  },
  {
   "cell_type": "code",
   "execution_count": 12,
   "metadata": {},
   "outputs": [
    {
     "data": {
      "text/plain": [
       "(array([ 128.,  522., 1033.,  896.,  498.,  263.,   81.,   22.,    8.,\n",
       "           5.]),\n",
       " array([ 0. ,  3.2,  6.4,  9.6, 12.8, 16. , 19.2, 22.4, 25.6, 28.8, 32. ]),\n",
       " <a list of 10 Patch objects>)"
      ]
     },
     "execution_count": 12,
     "metadata": {},
     "output_type": "execute_result"
    },
    {
     "data": {
      "image/png": "[encoded data removed]",
      "text/plain": [
       "<Figure size 432x288 with 1 Axes>"
      ]
     },
     "metadata": {
      "needs_background": "light"
     },
     "output_type": "display_data"
    }
   ],
   "source": [
    "# wind_loss histogram\n",
    "plt.hist(df[df[\"home_w_l_t\"] == \"LOSS\"][\"weather_wind_mph\"])"
   ]
  },
  {
   "cell_type": "code",
   "execution_count": 13,
   "metadata": {},
   "outputs": [],
   "source": [
    "# A t-test to check if there is any statistically significant difference between temp_win and temp_loss.\n",
    "t_val_weather, p_val_weather = ttest_ind(temp_win, temp_loss)"
   ]
  },
  {
   "cell_type": "code",
   "execution_count": 14,
   "metadata": {},
   "outputs": [
    {
     "data": {
      "text/plain": [
       "(-2.741049044299961, 0.006137419103358492)"
      ]
     },
     "execution_count": 14,
     "metadata": {},
     "output_type": "execute_result"
    }
   ],
   "source": [
    "# Indeed there is a statistically significant difference, as the p-value is very small.\n",
    "t_val_weather, p_val_weather"
   ]
  },
  {
   "cell_type": "code",
   "execution_count": 15,
   "metadata": {},
   "outputs": [],
   "source": [
    "# A t-test to check if there is any statistically significant difference between wind_win and wind_loss.\n",
    "t_val_wind, p_val_wind = ttest_ind(wind_win, wind_loss)"
   ]
  },
  {
   "cell_type": "code",
   "execution_count": 16,
   "metadata": {},
   "outputs": [
    {
     "data": {
      "text/plain": [
       "(1.4349573206864878, 0.15133686599379564)"
      ]
     },
     "execution_count": 16,
     "metadata": {},
     "output_type": "execute_result"
    }
   ],
   "source": [
    "# The t-test does not yield a small p-value, so we cannot conclude that there is a statistically significant difference.\n",
    "t_val_wind, p_val_wind"
   ]
  },
  {
   "cell_type": "code",
   "execution_count": 17,
   "metadata": {},
   "outputs": [],
   "source": [
    "# Make a copy of df\n",
    "df1 = df.copy()"
   ]
  },
  {
   "cell_type": "code",
   "execution_count": 18,
   "metadata": {},
   "outputs": [],
   "source": [
    "# We compute the average temperature of all the games won by each team.\n",
    "# The averages are saved as a new column 'avg_temperature'\n",
    "df1['avg_temperature'] = df1.groupby(['team_home', 'home_w_l_t'])['weather_temperature'].transform(np.mean)"
   ]
  },
  {
   "cell_type": "code",
   "execution_count": 19,
   "metadata": {},
   "outputs": [],
   "source": [
    "# Then we compute the standard deviation of temperature of all the games won by each team.\n",
    "# The standard deviations are saved as a new column 'std_temperature'\n",
    "df1['std_temperature'] = df1.groupby(['team_home', 'home_w_l_t'])['weather_temperature'].transform(np.std)"
   ]
  },
  {
   "cell_type": "code",
   "execution_count": 20,
   "metadata": {},
   "outputs": [],
   "source": [
    "# With average and standard deviation of each group already computed, we can proceed to compute the z-score.\n",
    "# The z-scores are saved as a new column 'z_score_temperature'\n",
    "df1['z_score_temperature'] = (df1['weather_temperature'] - df1['avg_temperature']) / df1['std_temperature']"
   ]
  },
  {
   "cell_type": "code",
   "execution_count": 21,
   "metadata": {
    "scrolled": true
   },
   "outputs": [
    {
     "data": {
      "text/html": [
       "<div>\n",
       "<style scoped>\n",
       "    .dataframe tbody tr th:only-of-type {\n",
       "        vertical-align: middle;\n",
       "    }\n",
       "\n",
       "    .dataframe tbody tr th {\n",
       "        vertical-align: top;\n",
       "    }\n",
       "\n",
       "    .dataframe thead th {\n",
       "        text-align: right;\n",
       "    }\n",
       "</style>\n",
       "<table border=\"1\" class=\"dataframe\">\n",
       "  <thead>\n",
       "    <tr style=\"text-align: right;\">\n",
       "      <th></th>\n",
       "      <th>schedule_date</th>\n",
       "      <th>team_home</th>\n",
       "      <th>score_home</th>\n",
       "      <th>score_away</th>\n",
       "      <th>team_away</th>\n",
       "      <th>stadium</th>\n",
       "      <th>weather_temperature</th>\n",
       "      <th>weather_wind_mph</th>\n",
       "      <th>weather_humidity</th>\n",
       "      <th>weather_detail</th>\n",
       "      <th>home_w_l_t</th>\n",
       "      <th>avg_temperature</th>\n",
       "      <th>std_temperature</th>\n",
       "      <th>z_score_temperature</th>\n",
       "    </tr>\n",
       "  </thead>\n",
       "  <tbody>\n",
       "    <tr>\n",
       "      <th>0</th>\n",
       "      <td>09/02/1966</td>\n",
       "      <td>Miami Dolphins</td>\n",
       "      <td>14</td>\n",
       "      <td>23</td>\n",
       "      <td>Oakland Raiders</td>\n",
       "      <td>Orange Bowl</td>\n",
       "      <td>83.0</td>\n",
       "      <td>6.0</td>\n",
       "      <td>71</td>\n",
       "      <td>NaN</td>\n",
       "      <td>LOSS</td>\n",
       "      <td>76.254386</td>\n",
       "      <td>6.995335</td>\n",
       "      <td>0.964302</td>\n",
       "    </tr>\n",
       "    <tr>\n",
       "      <th>1</th>\n",
       "      <td>09/03/1966</td>\n",
       "      <td>Houston Oilers</td>\n",
       "      <td>45</td>\n",
       "      <td>7</td>\n",
       "      <td>Denver Broncos</td>\n",
       "      <td>Rice Stadium</td>\n",
       "      <td>81.0</td>\n",
       "      <td>7.0</td>\n",
       "      <td>70</td>\n",
       "      <td>NaN</td>\n",
       "      <td>WIN</td>\n",
       "      <td>79.000000</td>\n",
       "      <td>2.828427</td>\n",
       "      <td>0.707107</td>\n",
       "    </tr>\n",
       "    <tr>\n",
       "      <th>2</th>\n",
       "      <td>09/04/1966</td>\n",
       "      <td>San Diego Chargers</td>\n",
       "      <td>27</td>\n",
       "      <td>7</td>\n",
       "      <td>Buffalo Bills</td>\n",
       "      <td>Balboa Stadium</td>\n",
       "      <td>70.0</td>\n",
       "      <td>7.0</td>\n",
       "      <td>82</td>\n",
       "      <td>NaN</td>\n",
       "      <td>WIN</td>\n",
       "      <td>63.828877</td>\n",
       "      <td>7.095555</td>\n",
       "      <td>0.869717</td>\n",
       "    </tr>\n",
       "    <tr>\n",
       "      <th>3</th>\n",
       "      <td>09/09/1966</td>\n",
       "      <td>Miami Dolphins</td>\n",
       "      <td>14</td>\n",
       "      <td>19</td>\n",
       "      <td>New York Jets</td>\n",
       "      <td>Orange Bowl</td>\n",
       "      <td>82.0</td>\n",
       "      <td>11.0</td>\n",
       "      <td>78</td>\n",
       "      <td>NaN</td>\n",
       "      <td>LOSS</td>\n",
       "      <td>76.254386</td>\n",
       "      <td>6.995335</td>\n",
       "      <td>0.821349</td>\n",
       "    </tr>\n",
       "    <tr>\n",
       "      <th>4</th>\n",
       "      <td>09/10/1966</td>\n",
       "      <td>Green Bay Packers</td>\n",
       "      <td>24</td>\n",
       "      <td>3</td>\n",
       "      <td>Baltimore Colts</td>\n",
       "      <td>Lambeau Field</td>\n",
       "      <td>64.0</td>\n",
       "      <td>8.0</td>\n",
       "      <td>62</td>\n",
       "      <td>NaN</td>\n",
       "      <td>WIN</td>\n",
       "      <td>42.695652</td>\n",
       "      <td>16.134627</td>\n",
       "      <td>1.320412</td>\n",
       "    </tr>\n",
       "  </tbody>\n",
       "</table>\n",
       "</div>"
      ],
      "text/plain": [
       "  schedule_date           team_home  score_home  score_away        team_away  \\\n",
       "0    09/02/1966      Miami Dolphins          14          23  Oakland Raiders   \n",
       "1    09/03/1966      Houston Oilers          45           7   Denver Broncos   \n",
       "2    09/04/1966  San Diego Chargers          27           7    Buffalo Bills   \n",
       "3    09/09/1966      Miami Dolphins          14          19    New York Jets   \n",
       "4    09/10/1966   Green Bay Packers          24           3  Baltimore Colts   \n",
       "\n",
       "          stadium  weather_temperature  weather_wind_mph weather_humidity  \\\n",
       "0     Orange Bowl                 83.0               6.0               71   \n",
       "1    Rice Stadium                 81.0               7.0               70   \n",
       "2  Balboa Stadium                 70.0               7.0               82   \n",
       "3     Orange Bowl                 82.0              11.0               78   \n",
       "4   Lambeau Field                 64.0               8.0               62   \n",
       "\n",
       "  weather_detail home_w_l_t  avg_temperature  std_temperature  \\\n",
       "0            NaN       LOSS        76.254386         6.995335   \n",
       "1            NaN        WIN        79.000000         2.828427   \n",
       "2            NaN        WIN        63.828877         7.095555   \n",
       "3            NaN       LOSS        76.254386         6.995335   \n",
       "4            NaN        WIN        42.695652        16.134627   \n",
       "\n",
       "   z_score_temperature  \n",
       "0             0.964302  \n",
       "1             0.707107  \n",
       "2             0.869717  \n",
       "3             0.821349  \n",
       "4             1.320412  "
      ]
     },
     "execution_count": 21,
     "metadata": {},
     "output_type": "execute_result"
    }
   ],
   "source": [
    "df1.head()"
   ]
  },
  {
   "cell_type": "markdown",
   "metadata": {},
   "source": [
    "We want to see if there are any correlation with the outcome of the game based on the difference of temperature from their average home temperature."
   ]
  },
  {
   "cell_type": "code",
   "execution_count": 22,
   "metadata": {},
   "outputs": [
    {
     "data": {
      "text/html": [
       "<div>\n",
       "<style scoped>\n",
       "    .dataframe tbody tr th:only-of-type {\n",
       "        vertical-align: middle;\n",
       "    }\n",
       "\n",
       "    .dataframe tbody tr th {\n",
       "        vertical-align: top;\n",
       "    }\n",
       "\n",
       "    .dataframe thead th {\n",
       "        text-align: right;\n",
       "    }\n",
       "</style>\n",
       "<table border=\"1\" class=\"dataframe\">\n",
       "  <thead>\n",
       "    <tr style=\"text-align: right;\">\n",
       "      <th></th>\n",
       "      <th>schedule_date</th>\n",
       "      <th>team_home</th>\n",
       "      <th>score_home</th>\n",
       "      <th>score_away</th>\n",
       "      <th>team_away</th>\n",
       "      <th>stadium</th>\n",
       "      <th>weather_temperature</th>\n",
       "      <th>weather_wind_mph</th>\n",
       "      <th>weather_humidity</th>\n",
       "      <th>weather_detail</th>\n",
       "      <th>home_w_l_t</th>\n",
       "      <th>avg_temperature</th>\n",
       "      <th>std_temperature</th>\n",
       "      <th>z_score_temperature</th>\n",
       "      <th>diff_temperature</th>\n",
       "    </tr>\n",
       "  </thead>\n",
       "  <tbody>\n",
       "    <tr>\n",
       "      <th>0</th>\n",
       "      <td>09/02/1966</td>\n",
       "      <td>Miami Dolphins</td>\n",
       "      <td>14</td>\n",
       "      <td>23</td>\n",
       "      <td>Oakland Raiders</td>\n",
       "      <td>Orange Bowl</td>\n",
       "      <td>83.0</td>\n",
       "      <td>6.0</td>\n",
       "      <td>71</td>\n",
       "      <td>NaN</td>\n",
       "      <td>LOSS</td>\n",
       "      <td>76.254386</td>\n",
       "      <td>6.995335</td>\n",
       "      <td>0.964302</td>\n",
       "      <td>-6.745614</td>\n",
       "    </tr>\n",
       "    <tr>\n",
       "      <th>1</th>\n",
       "      <td>09/03/1966</td>\n",
       "      <td>Houston Oilers</td>\n",
       "      <td>45</td>\n",
       "      <td>7</td>\n",
       "      <td>Denver Broncos</td>\n",
       "      <td>Rice Stadium</td>\n",
       "      <td>81.0</td>\n",
       "      <td>7.0</td>\n",
       "      <td>70</td>\n",
       "      <td>NaN</td>\n",
       "      <td>WIN</td>\n",
       "      <td>79.000000</td>\n",
       "      <td>2.828427</td>\n",
       "      <td>0.707107</td>\n",
       "      <td>-2.000000</td>\n",
       "    </tr>\n",
       "    <tr>\n",
       "      <th>2</th>\n",
       "      <td>09/04/1966</td>\n",
       "      <td>San Diego Chargers</td>\n",
       "      <td>27</td>\n",
       "      <td>7</td>\n",
       "      <td>Buffalo Bills</td>\n",
       "      <td>Balboa Stadium</td>\n",
       "      <td>70.0</td>\n",
       "      <td>7.0</td>\n",
       "      <td>82</td>\n",
       "      <td>NaN</td>\n",
       "      <td>WIN</td>\n",
       "      <td>63.828877</td>\n",
       "      <td>7.095555</td>\n",
       "      <td>0.869717</td>\n",
       "      <td>-6.171123</td>\n",
       "    </tr>\n",
       "    <tr>\n",
       "      <th>3</th>\n",
       "      <td>09/09/1966</td>\n",
       "      <td>Miami Dolphins</td>\n",
       "      <td>14</td>\n",
       "      <td>19</td>\n",
       "      <td>New York Jets</td>\n",
       "      <td>Orange Bowl</td>\n",
       "      <td>82.0</td>\n",
       "      <td>11.0</td>\n",
       "      <td>78</td>\n",
       "      <td>NaN</td>\n",
       "      <td>LOSS</td>\n",
       "      <td>76.254386</td>\n",
       "      <td>6.995335</td>\n",
       "      <td>0.821349</td>\n",
       "      <td>-5.745614</td>\n",
       "    </tr>\n",
       "    <tr>\n",
       "      <th>4</th>\n",
       "      <td>09/10/1966</td>\n",
       "      <td>Green Bay Packers</td>\n",
       "      <td>24</td>\n",
       "      <td>3</td>\n",
       "      <td>Baltimore Colts</td>\n",
       "      <td>Lambeau Field</td>\n",
       "      <td>64.0</td>\n",
       "      <td>8.0</td>\n",
       "      <td>62</td>\n",
       "      <td>NaN</td>\n",
       "      <td>WIN</td>\n",
       "      <td>42.695652</td>\n",
       "      <td>16.134627</td>\n",
       "      <td>1.320412</td>\n",
       "      <td>-21.304348</td>\n",
       "    </tr>\n",
       "  </tbody>\n",
       "</table>\n",
       "</div>"
      ],
      "text/plain": [
       "  schedule_date           team_home  score_home  score_away        team_away  \\\n",
       "0    09/02/1966      Miami Dolphins          14          23  Oakland Raiders   \n",
       "1    09/03/1966      Houston Oilers          45           7   Denver Broncos   \n",
       "2    09/04/1966  San Diego Chargers          27           7    Buffalo Bills   \n",
       "3    09/09/1966      Miami Dolphins          14          19    New York Jets   \n",
       "4    09/10/1966   Green Bay Packers          24           3  Baltimore Colts   \n",
       "\n",
       "          stadium  weather_temperature  weather_wind_mph weather_humidity  \\\n",
       "0     Orange Bowl                 83.0               6.0               71   \n",
       "1    Rice Stadium                 81.0               7.0               70   \n",
       "2  Balboa Stadium                 70.0               7.0               82   \n",
       "3     Orange Bowl                 82.0              11.0               78   \n",
       "4   Lambeau Field                 64.0               8.0               62   \n",
       "\n",
       "  weather_detail home_w_l_t  avg_temperature  std_temperature  \\\n",
       "0            NaN       LOSS        76.254386         6.995335   \n",
       "1            NaN        WIN        79.000000         2.828427   \n",
       "2            NaN        WIN        63.828877         7.095555   \n",
       "3            NaN       LOSS        76.254386         6.995335   \n",
       "4            NaN        WIN        42.695652        16.134627   \n",
       "\n",
       "   z_score_temperature  diff_temperature  \n",
       "0             0.964302         -6.745614  \n",
       "1             0.707107         -2.000000  \n",
       "2             0.869717         -6.171123  \n",
       "3             0.821349         -5.745614  \n",
       "4             1.320412        -21.304348  "
      ]
     },
     "execution_count": 22,
     "metadata": {},
     "output_type": "execute_result"
    }
   ],
   "source": [
    "df1['diff_temperature'] = df1['avg_temperature'] - df1['weather_temperature']\n",
    "df1.head()"
   ]
  },
  {
   "cell_type": "code",
   "execution_count": 23,
   "metadata": {},
   "outputs": [
    {
     "data": {
      "text/plain": [
       "Text(0, 0.5, 'Density')"
      ]
     },
     "execution_count": 23,
     "metadata": {},
     "output_type": "execute_result"
    },
    {
     "data": {
      "image/png": "[encoded data removed]",
      "text/plain": [
       "<Figure size 432x288 with 1 Axes>"
      ]
     },
     "metadata": {
      "needs_background": "light"
     },
     "output_type": "display_data"
    }
   ],
   "source": [
    "loss_temp = df1.loc[df1['home_w_l_t'] == 'LOSS']\n",
    "win_temp = df1.loc[df1['home_w_l_t'] == 'WIN']\n",
    "#tie_temp = df1.loc[df1['home_w_l_t'] == 'TIE'] #TODO possibly take this out\n",
    "\n",
    "\n",
    "\n",
    "sns.distplot(loss_temp['diff_temperature'], hist = False, kde = True, kde_kws = {'linewidth': 3}, label = 'Win')\n",
    "sns.distplot(win_temp['diff_temperature'], hist = False, kde = True, kde_kws = {'linewidth': 3}, label = 'Loss')\n",
    "#sns.distplot(tie_temp['diff_temperature'], hist = False, kde = True, kde_kws = {'linewidth': 3}, label = 'Tie')\n",
    "\n",
    "plt.legend(prop={'size': 16}, title = 'Game Outcome')\n",
    "plt.title('Density Plot Based On Game Outcome')\n",
    "plt.xlabel('Temperature Differences')\n",
    "plt.ylabel('Density')"
   ]
  },
  {
   "cell_type": "markdown",
   "metadata": {},
   "source": [
    "# Ethics and Privacy"
   ]
  },
  {
   "cell_type": "markdown",
   "metadata": {},
   "source": [
    "We do not have any privacy issues regarding this data as it was built from publicly available data published by the NFL, as well as publicly available weather data from NOAA. The ramifications of the results of this study could span to the population who places bets on the outcomes of NFL games, and this study could be used to predict unlikely outcomes. It is also important to consider the privacy and reputation of the sports teams analyzed, as negative attention to a team’s performance or brand may negatively affect their public opinion."
   ]
  },
  {
   "cell_type": "markdown",
   "metadata": {},
   "source": [
    "# Conclusion & Discussion"
   ]
  },
  {
   "cell_type": "markdown",
   "metadata": {},
   "source": [
    "*Fill in your discussion information here*"
   ]
  }
 ],
 "metadata": {
  "kernelspec": {
   "display_name": "Python 3",
   "language": "python",
   "name": "python3"
  },
  "language_info": {
   "codemirror_mode": {
    "name": "ipython",
    "version": 3
   },
   "file_extension": ".py",
   "mimetype": "text/x-python",
   "name": "python",
   "nbconvert_exporter": "python",
   "pygments_lexer": "ipython3",
   "version": "3.7.0"
  }
 },
 "nbformat": 4,
 "nbformat_minor": 2
}
